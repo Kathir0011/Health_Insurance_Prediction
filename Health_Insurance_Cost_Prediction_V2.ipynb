{
 "cells": [
  {
   "cell_type": "markdown",
   "metadata": {
    "collapsed": false
   },
   "source": [
    "# Health Insurance Cost Prediction"
   ]
  },
  {
   "cell_type": "markdown",
   "metadata": {
    "collapsed": false
   },
   "source": [
    "## General Information\n",
    "\n",
    "### -> Problem Description\n",
    "* Identifying the cost of health insurance policy that should be applied by a person, based on their characteristics.\n",
    "\n",
    "### -> Dataset Information\n",
    "* The dataset used for this problem is downloaded from Kaggle.\n",
    "* The dataset is based on the Insurance Premium Charges in US\n",
    "* This dataset contains 1338 rows of insured data, where the Insurance charges are given against the following attributes of the insured:\n",
    "    * Age\n",
    "    * Sex\n",
    "    * BMI\n",
    "    * Number of Children\n",
    "    * Smoker\n",
    "    * Region\n",
    "* There are no missing or undefined values in the dataset.\n",
    "* **Dataset Link:** <a href= \"https://www.kaggle.com/datasets/teertha/ushealthinsurancedataset\">https://www.kaggle.com/datasets/teertha/ushealthinsurancedataset</a>\n",
    "\n",
    "### -> Libraries Used\n",
    "* Numpy\n",
    "* Pandas\n",
    "* Matplotlib\n",
    "* Seaborn\n",
    "* Sklearn\n",
    "\n",
    "### -> Models Tried:\n",
    "* RandomForestRegressor\n",
    "* DecisionTreeRegressor\n",
    "* LinearRegression\n",
    "* SVR\n",
    "* XGBRegressor\n",
    "* XGBRFRegressor\n",
    "\n",
    "### -> Evaluation Metrics Used\n",
    "* Since it is a Regression based problem, the following metrics are used:\n",
    "    * R2 Score\n",
    "    * Mean Absolute Error\n",
    "    * Mean Squared Error\n",
    "    * Cross Validated R2 Score\n",
    "    * Cross Validated Mean Absolute Error\n",
    "    * Cross Validated Mean Squared Error\n"
   ]
  },
  {
   "cell_type": "markdown",
   "metadata": {
    "collapsed": false
   },
   "source": [
    "## 1. Importing The Required Libraries"
   ]
  },
  {
   "cell_type": "code",
   "execution_count": 17,
   "metadata": {
    "collapsed": false
   },
   "outputs": [],
   "source": [
    "# to manipulate the data\n",
    "import numpy as np\n",
    "import pandas as pd\n",
    "import matplotlib.pyplot as plt\n",
    "import seaborn as sns"
   ]
  },
  {
   "cell_type": "code",
   "execution_count": 18,
   "metadata": {
    "collapsed": false
   },
   "outputs": [],
   "source": [
    "# ML models\n",
    "from sklearn.ensemble import RandomForestRegressor\n",
    "from sklearn.tree import DecisionTreeRegressor\n",
    "from sklearn.linear_model import LinearRegression\n",
    "from sklearn.svm import SVR\n",
    "import xgboost as xgb"
   ]
  },
  {
   "cell_type": "code",
   "execution_count": 19,
   "metadata": {
    "collapsed": false
   },
   "outputs": [],
   "source": [
    "# for splitting the data into train and test sets\n",
    "from sklearn.model_selection import train_test_split\n",
    "\n",
    "# for hyperparameter tuning\n",
    "from sklearn.model_selection import RandomizedSearchCV, GridSearchCV"
   ]
  },
  {
   "cell_type": "code",
   "execution_count": 20,
   "metadata": {
    "collapsed": false
   },
   "outputs": [],
   "source": [
    "# evaluation metrics\n",
    "from sklearn.metrics import mean_squared_error\n",
    "from sklearn.metrics import mean_absolute_error\n",
    "from sklearn.metrics import r2_score\n",
    "from sklearn.model_selection import cross_val_score"
   ]
  },
  {
   "cell_type": "markdown",
   "metadata": {
    "collapsed": false
   },
   "source": [
    "## 2. Loading the Dataset"
   ]
  },
  {
   "cell_type": "code",
   "execution_count": 21,
   "metadata": {
    "collapsed": false
   },
   "outputs": [
    {
     "data": {
      "text/html": [
       "<div>\n",
       "<style scoped>\n",
       "    .dataframe tbody tr th:only-of-type {\n",
       "        vertical-align: middle;\n",
       "    }\n",
       "\n",
       "    .dataframe tbody tr th {\n",
       "        vertical-align: top;\n",
       "    }\n",
       "\n",
       "    .dataframe thead th {\n",
       "        text-align: right;\n",
       "    }\n",
       "</style>\n",
       "<table border=\"1\" class=\"dataframe\">\n",
       "  <thead>\n",
       "    <tr style=\"text-align: right;\">\n",
       "      <th></th>\n",
       "      <th>age</th>\n",
       "      <th>sex</th>\n",
       "      <th>bmi</th>\n",
       "      <th>children</th>\n",
       "      <th>smoker</th>\n",
       "      <th>region</th>\n",
       "      <th>charges</th>\n",
       "    </tr>\n",
       "  </thead>\n",
       "  <tbody>\n",
       "    <tr>\n",
       "      <th>0</th>\n",
       "      <td>19</td>\n",
       "      <td>female</td>\n",
       "      <td>27.900</td>\n",
       "      <td>0</td>\n",
       "      <td>yes</td>\n",
       "      <td>southwest</td>\n",
       "      <td>16884.92400</td>\n",
       "    </tr>\n",
       "    <tr>\n",
       "      <th>1</th>\n",
       "      <td>18</td>\n",
       "      <td>male</td>\n",
       "      <td>33.770</td>\n",
       "      <td>1</td>\n",
       "      <td>no</td>\n",
       "      <td>southeast</td>\n",
       "      <td>1725.55230</td>\n",
       "    </tr>\n",
       "    <tr>\n",
       "      <th>2</th>\n",
       "      <td>28</td>\n",
       "      <td>male</td>\n",
       "      <td>33.000</td>\n",
       "      <td>3</td>\n",
       "      <td>no</td>\n",
       "      <td>southeast</td>\n",
       "      <td>4449.46200</td>\n",
       "    </tr>\n",
       "    <tr>\n",
       "      <th>3</th>\n",
       "      <td>33</td>\n",
       "      <td>male</td>\n",
       "      <td>22.705</td>\n",
       "      <td>0</td>\n",
       "      <td>no</td>\n",
       "      <td>northwest</td>\n",
       "      <td>21984.47061</td>\n",
       "    </tr>\n",
       "    <tr>\n",
       "      <th>4</th>\n",
       "      <td>32</td>\n",
       "      <td>male</td>\n",
       "      <td>28.880</td>\n",
       "      <td>0</td>\n",
       "      <td>no</td>\n",
       "      <td>northwest</td>\n",
       "      <td>3866.85520</td>\n",
       "    </tr>\n",
       "  </tbody>\n",
       "</table>\n",
       "</div>"
      ],
      "text/plain": [
       "   age     sex     bmi  children smoker     region      charges\n",
       "0   19  female  27.900         0    yes  southwest  16884.92400\n",
       "1   18    male  33.770         1     no  southeast   1725.55230\n",
       "2   28    male  33.000         3     no  southeast   4449.46200\n",
       "3   33    male  22.705         0     no  northwest  21984.47061\n",
       "4   32    male  28.880         0     no  northwest   3866.85520"
      ]
     },
     "execution_count": 21,
     "metadata": {},
     "output_type": "execute_result"
    }
   ],
   "source": [
    "# reading data from the dataset and storing it as a dataframe\n",
    "df = pd.read_csv(\"D:/Programs/ML/Prediction models/Health_Insurance_Prediction-main/insurance.csv\")\n",
    "df.head()"
   ]
  },
  {
   "cell_type": "code",
   "execution_count": 22,
   "metadata": {
    "collapsed": false
   },
   "outputs": [
    {
     "data": {
      "text/plain": [
       "(1338, 7)"
      ]
     },
     "execution_count": 22,
     "metadata": {},
     "output_type": "execute_result"
    }
   ],
   "source": [
    "# viewing the shape of the dataframe\n",
    "df.shape"
   ]
  },
  {
   "cell_type": "code",
   "execution_count": 23,
   "metadata": {
    "collapsed": false
   },
   "outputs": [
    {
     "data": {
      "text/plain": [
       "age         0\n",
       "sex         0\n",
       "bmi         0\n",
       "children    0\n",
       "smoker      0\n",
       "region      0\n",
       "charges     0\n",
       "dtype: int64"
      ]
     },
     "execution_count": 23,
     "metadata": {},
     "output_type": "execute_result"
    }
   ],
   "source": [
    "# checking for null values\n",
    "df.isna().sum()"
   ]
  },
  {
   "cell_type": "code",
   "execution_count": 24,
   "metadata": {
    "collapsed": false
   },
   "outputs": [
    {
     "data": {
      "text/plain": [
       "age           int64\n",
       "sex          object\n",
       "bmi         float64\n",
       "children      int64\n",
       "smoker       object\n",
       "region       object\n",
       "charges     float64\n",
       "dtype: object"
      ]
     },
     "execution_count": 24,
     "metadata": {},
     "output_type": "execute_result"
    }
   ],
   "source": [
    "# checking the datatypes of each column\n",
    "df.dtypes"
   ]
  },
  {
   "cell_type": "code",
   "execution_count": 25,
   "metadata": {
    "collapsed": false
   },
   "outputs": [
    {
     "data": {
      "text/plain": [
       "southeast    364\n",
       "southwest    325\n",
       "northwest    325\n",
       "northeast    324\n",
       "Name: region, dtype: int64"
      ]
     },
     "execution_count": 25,
     "metadata": {},
     "output_type": "execute_result"
    }
   ],
   "source": [
    "df[\"region\"].value_counts()"
   ]
  },
  {
   "cell_type": "markdown",
   "metadata": {
    "collapsed": false
   },
   "source": [
    "### 2.1. Plotting Information about the data"
   ]
  },
  {
   "cell_type": "code",
   "execution_count": 26,
   "metadata": {
    "collapsed": false
   },
   "outputs": [],
   "source": [
    "# plotting a bar chart for the passed values\n",
    "def plot_bar_chart(X, y, xlabel, ylabel):\n",
    "    title = str(xlabel+\" vs. \"+ylabel,)\n",
    "    plt.bar(df[\"age\"], df[\"charges\"])\n",
    "    plt.title(title+\"\\n\")\n",
    "    plt.xlabel(\"\\n\"+xlabel)\n",
    "    plt.ylabel(ylabel+\"\\n\");"
   ]
  },
  {
   "cell_type": "code",
   "execution_count": 27,
   "metadata": {
    "collapsed": false
   },
   "outputs": [
    {
     "data": {
      "image/png": "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",
      "text/plain": [
       "<Figure size 640x480 with 1 Axes>"
      ]
     },
     "metadata": {},
     "output_type": "display_data"
    }
   ],
   "source": [
    "# age vs charges\n",
    "plot_bar_chart(df[\"age\"], df[\"charges\"],\"AGE\", \"CHARGES\")"
   ]
  },
  {
   "cell_type": "code",
   "execution_count": 28,
   "metadata": {
    "collapsed": false
   },
   "outputs": [
    {
     "data": {
      "image/png": "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",
      "text/plain": [
       "<Figure size 640x480 with 1 Axes>"
      ]
     },
     "metadata": {},
     "output_type": "display_data"
    }
   ],
   "source": [
    "# children vs charges\n",
    "plot_bar_chart(df[\"children\"], df[\"charges\"],\"CHILDREN\", \"CHARGES\")"
   ]
  },
  {
   "cell_type": "code",
   "execution_count": 29,
   "metadata": {
    "collapsed": false
   },
   "outputs": [
    {
     "data": {
      "image/png": "iVBORw0KGgoAAAANSUhEUgAAAl0AAAHmCAYAAABJZzsAAAAAOXRFWHRTb2Z0d2FyZQBNYXRwbG90bGliIHZlcnNpb24zLjUuMywgaHR0cHM6Ly9tYXRwbG90bGliLm9yZy/NK7nSAAAACXBIWXMAAA9hAAAPYQGoP6dpAABBRklEQVR4nO3dfVhUdf7/8dfEzYgEs9wIIysqGZGEWoulSJuWCrqC69o3K5K0XLM0idIsa39JfVdoM2822Sxd7/Im2r5la1qEdmO53lNs3mW5WWKBWCIq2YB4fn90ebYRNFE4OPh8XNe5rs75vGfOe86o8+oz55yxGYZhCAAAAI3qkqZuAAAA4GJA6AIAALAAoQsAAMAChC4AAAALELoAAAAsQOgCAACwAKELAADAAoQuAAAACxC6AAAALEDoAtBgFixYIJvN5ra0atVKvXr10ooVK2rVn6wZPnx4nc/31FNPmTVfffWVuX348OG69NJLG+lVNIxPP/1Ud911l6KiotSiRQtdeuml+s1vfqNnnnlGBw8eNOt69eqluLi4Op/ju+++k81mU1ZWVp3jy5cvl81mU0hIiFwuV5017du3d3s//P399Zvf/Ea5ubk63Q+S7NmzRxkZGerYsaP8/f3VokULtW/fXkOHDtX777/v9ri63vOfLx988IFZW1lZqb/85S/q0qWLAgMDFRAQoA4dOmjIkCFas2bNLxxRwPN5N3UDAJqf+fPn68orr5RhGCotLVVubq5SU1O1fPlypaamutUGBATo1Vdf1cyZMxUQEGBuNwxDCxYsUGBgoA4fPmz1Szgvc+bM0ejRoxUTE6OHH35YsbGxqq6u1pYtW/TCCy9o/fr1WrZs2XnvZ+7cuZKkgwcP6o033tCtt95aZ11iYqKeffZZSdK3336radOmaezYsTp8+LAee+wxt9rly5crLS1NoaGhuvfee/Wb3/xGdrtdu3fv1v/93//ppptu0urVq9W7d2+3x518z08VGxsrSaqpqVFSUpK2bt2qhx9+WNddd50k6YsvvtCbb76pjz76SD179jy/AwJc6AwAaCDz5883JBmbN2922/7DDz8YdrvduP322922SzKGDh1q+Pn5GbNnz3YbW716tSHJGDlypCHJ2LNnjzk2bNgww9/fv9Fex/lYt26d4eXlZfTr18/48ccfa427XC7jn//8p7nes2dP46qrrqrzuQ4cOGBIMiZNmlRrrKSkxPD29jZuuukmo0WLFkbfvn3rfI527doZAwYMcNtWUVFhOBwOo23btm7bd+/ebbRs2dK49tprjYqKijqf7/333zeKiorM9dO956d67733DEnGvHnz6hyvqak54+OB5oCvFwE0uhYtWsjX11c+Pj61xhwOh/7whz9o3rx5btvnzZunxMREXXHFFee0zxkzZshms2n37t21xh555BH5+vrqu+++kyR98sknSklJUVhYmOx2uyIiIjRgwADt27ev3vvNzs6WzWbT7NmzZbfba437+vpq4MCB9X9Bp1i4cKGOHz+uBx98UIMHD9a7776rr7/++qweGxgYqCuuuEL79+932z5t2jT98MMPev755xUYGFjnY3v16qUuXbrUu9/vv/9ektS6des6xy+5hI8jNH/8KQfQ4GpqanT8+HFVV1dr3759yszMVGVlpdLS0uqsHzFihDZs2KCdO3dKkg4dOqTXX39dI0aMOOcehg4dKl9fXy1YsKBWb4sXL1ZqaqpCQ0NVWVmpvn37av/+/frb3/6mVatWacaMGWrbtq2OHDlSr33W1NTovffeU3x8vCIjI+v12OPHj9daampqTls/b948tW7dWv3799fdd9+tEydO1HqtZ9pXcXFxrUC7atUqtW7dWl27dq1X79J/3/PT9d+1a1f5+PjogQce0JIlS1RSUlLvfQCejtAFoMF1795dPj4+8vX1VWRkpF588UXl5uYqOTm5zvobb7xRUVFR5mzX0qVL5e3trVtuueWcewgNDVVKSooWLlyoEydOmNsLCgr07bff6q677pIkffbZZ/r+++/1pz/9SbfccotuuOEGDRkyRLNmzVLHjh3rtc/vvvtOP/zwg6Kiour1uO3bt8vHx6fW4nQ666z/6KOP9Pnnn2vYsGHy8vLSTTfdpKioKM2fP7/Ok+MNwzCD0N69ezV69Gh9//33ysnJcasrLi5Wu3btaj3+xIkTbmHq58fzpJPv+c+Xn8/0tW/fXi+88IK+/fZbDR06VBEREYqIiNCwYcP00Ucf1et4AZ6K0AWgwb300kvavHmzNm/erLffflvDhg3TmDFjlJubW2f9ySsYFy1apOPHj2vu3LkaMmTIeV+heNddd2nfvn1avXq1uW3+/PlyOp3q37+/JOnyyy9XUFCQHnnkEb3wwgvasWPHee3zXHTo0ME8Xj9fft73z508gf7uu++W9N/j9/XXX+vdd9+tVf/WW2+ZQahdu3aaM2eOZs6cqQEDBpxVf4MHD3YLUxkZGbVqfv6en1w2btzoVnP33Xdr3759Wrp0qTIyMhQZGanFixerZ8+emjJlyln1Ani0pj6pDEDzcaaTqpOTkw0/Pz+jvLzc3CbJGDNmjGEYhrF3717jkksuMZ588klDkvGvf/3LMAzDmDJlyjmfSH/8+HGjdevWxm233WYYhmEcPHjQsNvtxoQJE9zqPv30U+PWW281goKCDElG69atjSeeeMKoqqqq1+s/fvy40bJlS6Nbt25n/Zj6nkh/+PBho2XLlsZ1111nlJeXm8unn35q2Gw287We1K5dO+P66683Nm/ebGzYsMFYtGiR0b59e8Pb29v46KOP3GqvuOIKo3Xr1rX62L17t7F582Zj8+bNbu+ZYZz9ifSns23bNsPpdBo+Pj5ufzaA5oiZLgCW6Ny5s44dO6bPP/+8zvHIyEj16dNHTz75pGJiYtSjR4/z3qeXl5fS09P1xhtv6NChQ1q6dKlcLpf51eJJnTp1Ul5enr7//nsVFRXp1ltv1VNPPaWpU6fWe3+9e/dWYWHhOZ2EfzZefvll/fDDD9q0aZOCgoLMpXPnzjIMQ8uWLVN5ebnbYxwOh7p27apu3bpp6NChKigokI+Pj0aPHu32VWHfvn1VUlKiLVu2uD2+Q4cO6tq16zmd6/VLrrrqKt12222qrq4+7Z8NoLkgdAGwRFFRkSSpVatWp60ZN26cUlNT9f/+3/9rsP3edddd+vHHH/Xyyy9rwYIFSkhIqPN+UtJPX9N16dJF06dP169+9St9/PHH9d7fxIkTZRiGRo4cqaqqqlrj1dXVevPNN+v9vCfNnTtXAQEBevfdd/X++++7LVOmTJHL5dKSJUvO+BzR0dGaMGGCtm7dqldeecXc/uCDD6ply5YaM2ZMvS8i+CXff/99ncdD+um8OkmKiIho0H0CFxpujgqgwW3btk3Hjx+X9NOH7euvv65Vq1bpD3/4wxlPMk9KSlJSUlKD9nLllVcqISFBOTk5Ki4u1uzZs93GV6xYoeeff16DBg3SZZddJsMw9Prrr+vQoUPq27evWde7d2+tWbPGfF2nk5CQoFmzZmn06NGKj4/Xfffdp6uuukrV1dX65JNPNHv2bMXFxdW6SezZ2LZtmzZt2qT77rtPN910U63xxMRETZ06VXPnztX9999/xucaP368XnjhBT355JMaMmSIvLy81KFDB7388su6/fbb1alTJ913333mzVHLyspUUFAgSXXeTuLn7/nPdejQQa1atdL777+vBx54QHfccYd69OihkJAQlZWV6eWXX1Z+fr7uvPNOtWnTpt7HBPAoTfz1JoBm5OT5PT9fHA6HcfXVVxvTpk2rdbNQnXJ+UF3O55yuk2bPnm1IMvz8/Grd9POzzz4zbr/9dqNDhw6Gn5+f4XA4jOuuu85YsGCBW13Pnj2N+vyTWVRUZAwbNsxo27at4evra/j7+xvXXHON8cQTTxhlZWVuz3u253RlZmYaktxuTnqqRx991JBkFBYWGoZR981RT/rb3/5mSDIWLlzotv0///mPMXbsWCMmJsbw8/Mz7Ha70a5dO+OWW24xli1bZpw4ccKsres9//kyZ84cwzAMo7i42PjTn/5kJCYmGk6n0/D29jYCAgKMbt26GTNnzjSOHz/+ywcV8HA2wzjNj28BAACgwXBOFwAAgAUIXQAAABYgdAEAAFiA0AUAAGABQhcAAIAFCF0AAAAWIHQBAABYgNAFAABgAUIXAACABQhdAAAAFiB0AQAAWIDQBQAAYAFCFwAAgAUIXQAAABYgdAEAAFiA0AUAAGABQhcAAIAFCF0AAAAWIHQBAABYgNAFAABgAUIXAACABQhdAAAAFiB0AQAAWMC7qRvAf504cULffvutAgICZLPZmrodAABwFgzD0JEjRxQREaFLLjn9fBah6wLy7bffKjIysqnbAAAA56C4uFht2rQ57Tih6wISEBAg6ac3LTAwsIm7AQAAZ+Pw4cOKjIw0P8dPh9B1ATn5lWJgYCChCwAAD/NLpwZxIj0AAIAFCF0AAAAWIHQBAABYgNAFAABgAUIXAACABQhdAAAAFiB0AQAAWIDQBQAAYAFCFwAAgAUIXQAAABYgdAEAAFiA0AUAAGABQhcAAIAFCF0AAAAWIHQBAABYwLupGwAAoLlo/+jKM45/9fQAizrBhYiZLgAAAAsQugAAACxA6AIAALAAoQsAAMAChC4AAAALcPUiAFyEznSVHVfYAY2DmS4AAAALELoAAAAsQOgCAACwAKELAADAAoQuAAAACxC6AAAALEDoAgAAsAChCwAAwAKELgAAAAsQugAAACzg8aHrm2++0dChQxUSEqKWLVvq6quvVmFhoTluGIaysrIUEREhPz8/9erVS9u3b3d7DpfLpbFjxyo0NFT+/v4aOHCg9u3b51ZTXl6u9PR0ORwOORwOpaen69ChQ241e/fuVWpqqvz9/RUaGqqMjAxVVVU12msHAACew6NDV3l5uRITE+Xj46O3335bO3bs0NSpU/WrX/3KrHnmmWc0bdo05ebmavPmzXI6nerbt6+OHDli1mRmZmrZsmXKy8vT2rVrdfToUaWkpKimpsasSUtLU1FRkfLz85Wfn6+ioiKlp6eb4zU1NRowYIAqKyu1du1a5eXl6bXXXtO4ceMsORYAAODCZjMMw2jqJs7Vo48+qn/961/66KOP6hw3DEMRERHKzMzUI488IumnWa3w8HD95S9/0ahRo1RRUaFWrVpp0aJFuvXWWyVJ3377rSIjI/XWW28pOTlZO3fuVGxsrDZs2KBu3bpJkjZs2KCEhAR99tlniomJ0dtvv62UlBQVFxcrIiJCkpSXl6fhw4errKxMgYGBtfpzuVxyuVzm+uHDhxUZGamKioo66wGgofCD143jTMdV4tg2V4cPH5bD4fjFz2+Pnulavny5unbtqltuuUVhYWG65pprNGfOHHN8z549Ki0tVVJSkrnNbrerZ8+eWrdunSSpsLBQ1dXVbjURERGKi4sza9avXy+Hw2EGLknq3r27HA6HW01cXJwZuCQpOTlZLpfL7evOn8vJyTG/rnQ4HIqMjGyAowIAqI/2j6484wI0FI8OXV9++aVmzZql6OhovfPOO7r33nuVkZGhl156SZJUWloqSQoPD3d7XHh4uDlWWloqX19fBQUFnbEmLCys1v7DwsLcak7dT1BQkHx9fc2aU02cOFEVFRXmUlxcXN9DAAAAPIR3UzdwPk6cOKGuXbsqOztbknTNNddo+/btmjVrlu68806zzmazuT3OMIxa2051ak1d9edS83N2u112u/2MfQAAgObBo2e6WrdurdjYWLdtHTt21N69eyVJTqdTkmrNNJWVlZmzUk6nU1VVVSovLz9jzf79+2vt/8CBA241p+6nvLxc1dXVtWbAAADAxcejQ1diYqJ27drltu3zzz9Xu3btJElRUVFyOp1atWqVOV5VVaU1a9aoR48ekqT4+Hj5+Pi41ZSUlGjbtm1mTUJCgioqKrRp0yazZuPGjaqoqHCr2bZtm0pKSsyagoIC2e12xcfHN/ArBwAAnsajv1588MEH1aNHD2VnZ2vIkCHatGmTZs+erdmzZ0v66eu+zMxMZWdnKzo6WtHR0crOzlbLli2VlpYmSXI4HBoxYoTGjRunkJAQBQcHa/z48erUqZP69Okj6afZs379+mnkyJF68cUXJUn33HOPUlJSFBMTI0lKSkpSbGys0tPTNWXKFB08eFDjx4/XyJEjuRIRAAB4dui69tprtWzZMk2cOFFPPfWUoqKiNGPGDN1xxx1mzYQJE3Ts2DGNHj1a5eXl6tatmwoKChQQEGDWTJ8+Xd7e3hoyZIiOHTum3r17a8GCBfLy8jJrlixZooyMDPMqx4EDByo3N9cc9/Ly0sqVKzV69GglJibKz89PaWlpevbZZy04EgAA4ELn0ffpam7O9j4fAHC+uE/XfzXkvbW4T9fF6Ww/vz16pgvAmfHBCgAXDo8+kR4AAMBTELoAAAAsQOgCAACwAKELAADAAoQuAAAACxC6AAAALEDoAgAAsAChCwAAwAKELgAAAAsQugAAACxA6AIAALAAoQsAAMAChC4AAAALELoAAAAsQOgCAACwAKELAADAAoQuAAAACxC6AAAALODd1A0A8AztH115xvGvnh5gUScA4JmY6QIAALAAoQsAAMAChC4AAAALELoAAAAsQOgCAACwAKELAADAAoQuAAAACxC6AAAALEDoAgAAsAChCwAAwAKELgAAAAsQugAAACxA6AIAALCAd1M3AAAAPEv7R1eecfyrpwdY1IlnYaYLAADAAoQuAAAACxC6AAAALEDoAgAAsAChCwAAwAKELgAAAAsQugAAACzAfboAi5zpvjbc0wYAmj9mugAAACxA6AIAALCAR4eurKws2Ww2t8XpdJrjhmEoKytLERER8vPzU69evbR9+3a353C5XBo7dqxCQ0Pl7++vgQMHat++fW415eXlSk9Pl8PhkMPhUHp6ug4dOuRWs3fvXqWmpsrf31+hoaHKyMhQVVVVo712AADgWTw6dEnSVVddpZKSEnPZunWrOfbMM89o2rRpys3N1ebNm+V0OtW3b18dOXLErMnMzNSyZcuUl5entWvX6ujRo0pJSVFNTY1Zk5aWpqKiIuXn5ys/P19FRUVKT083x2tqajRgwABVVlZq7dq1ysvL02uvvaZx48ZZcxAAAMAFz+NPpPf29nab3TrJMAzNmDFDjz/+uAYPHixJWrhwocLDw7V06VKNGjVKFRUVmjt3rhYtWqQ+ffpIkhYvXqzIyEitXr1aycnJ2rlzp/Lz87VhwwZ169ZNkjRnzhwlJCRo165diomJUUFBgXbs2KHi4mJFRERIkqZOnarhw4dr8uTJCgwMtOhoAACAC5XHz3R98cUXioiIUFRUlG677TZ9+eWXkqQ9e/aotLRUSUlJZq3dblfPnj21bt06SVJhYaGqq6vdaiIiIhQXF2fWrF+/Xg6HwwxcktS9e3c5HA63mri4ODNwSVJycrJcLpcKCwtP27vL5dLhw4fdFgAA0Dx5dOjq1q2bXnrpJb3zzjuaM2eOSktL1aNHD33//fcqLS2VJIWHh7s9Jjw83BwrLS2Vr6+vgoKCzlgTFhZWa99hYWFuNafuJygoSL6+vmZNXXJycszzxBwOhyIjI+t5BAAAgKfw6NDVv39/3XzzzerUqZP69OmjlSt/ug/SwoULzRqbzeb2GMMwam071ak1ddWfS82pJk6cqIqKCnMpLi4+Y18AAMBzefw5XT/n7++vTp066YsvvtCgQYMk/TQL1bp1a7OmrKzMnJVyOp2qqqpSeXm522xXWVmZevToYdbs37+/1r4OHDjg9jwbN250Gy8vL1d1dXWtGbCfs9vtstvt5/ZiAQBALRfyjag9eqbrVC6XSzt37lTr1q0VFRUlp9OpVatWmeNVVVVas2aNGaji4+Pl4+PjVlNSUqJt27aZNQkJCaqoqNCmTZvMmo0bN6qiosKtZtu2bSopKTFrCgoKZLfbFR8f36ivGQAAeAaPnukaP368UlNT1bZtW5WVlenPf/6zDh8+rGHDhslmsykzM1PZ2dmKjo5WdHS0srOz1bJlS6WlpUmSHA6HRowYoXHjxikkJETBwcEaP368+XWlJHXs2FH9+vXTyJEj9eKLL0qS7rnnHqWkpCgmJkaSlJSUpNjYWKWnp2vKlCk6ePCgxo8fr5EjR3LlIgAAkOThoWvfvn26/fbb9d1336lVq1bq3r27NmzYoHbt2kmSJkyYoGPHjmn06NEqLy9Xt27dVFBQoICAAPM5pk+fLm9vbw0ZMkTHjh1T7969tWDBAnl5eZk1S5YsUUZGhnmV48CBA5Wbm2uOe3l5aeXKlRo9erQSExPl5+entLQ0PfvssxYdCQAAzt+ZvpqTmv7rOU/n0aErLy/vjOM2m01ZWVnKyso6bU2LFi00c+ZMzZw587Q1wcHBWrx48Rn31bZtW61YseKMNQDQ2PjQRHPVHP5se3ToAgDgYtccwsjFgtAFAAAaxYV8JWFTaFZXLwIAAFyoCF0AAAAWIHQBAABYgNAFAABgAU6kBwDgIsBJ7U2P0AUAaJa4lQIuNHy9CAAAYAFCFwAAgAUIXQAAABbgnC4AAM4CJ6I3jovp3DtmugAAACxA6AIAALAAXy8C8GgX01cTVuPYAg2L0AUAHoAABHg+QhcAoNERGgHO6QIAALAEoQsAAMAChC4AAAALELoAAAAsQOgCAACwAFcvAhcQrvACgOaL0IUmR9AAcLHh372LE18vAgAAWICZLgDAeWHWBjg7hC4ADepMH8B8+NaNY4bT4c9G80LoAnDBYgYFQHPCOV0AAAAWIHQBAABYgNAFAABgAUIXAACABTiRHgDgcbiqD56ImS4AAAALELoAAAAsQOgCAACwAOd04aLETTcBAFYjdAG4KBC0ATQ1vl4EAACwAKELAADAAoQuAAAACxC6AAAALEDoAgAAsABXL8Jj8LMf/8WVeADgeZrNTFdOTo5sNpsyMzPNbYZhKCsrSxEREfLz81OvXr20fft2t8e5XC6NHTtWoaGh8vf318CBA7Vv3z63mvLycqWnp8vhcMjhcCg9PV2HDh1yq9m7d69SU1Pl7++v0NBQZWRkqKqqqrFeLgAA8DDNInRt3rxZs2fPVufOnd22P/PMM5o2bZpyc3O1efNmOZ1O9e3bV0eOHDFrMjMztWzZMuXl5Wnt2rU6evSoUlJSVFNTY9akpaWpqKhI+fn5ys/PV1FRkdLT083xmpoaDRgwQJWVlVq7dq3y8vL02muvady4cY3/4gEAgEfw+K8Xjx49qjvuuENz5szRn//8Z3O7YRiaMWOGHn/8cQ0ePFiStHDhQoWHh2vp0qUaNWqUKioqNHfuXC1atEh9+vSRJC1evFiRkZFavXq1kpOTtXPnTuXn52vDhg3q1q2bJGnOnDlKSEjQrl27FBMTo4KCAu3YsUPFxcWKiIiQJE2dOlXDhw/X5MmTFRgYaPFRAXAh4GtgAD/n8aFrzJgxGjBggPr06eMWuvbs2aPS0lIlJSWZ2+x2u3r27Kl169Zp1KhRKiwsVHV1tVtNRESE4uLitG7dOiUnJ2v9+vVyOBxm4JKk7t27y+FwaN26dYqJidH69esVFxdnBi5JSk5OlsvlUmFhoW688cY6e3e5XHK5XOb64cOHG+SYADh3nDsIoLF4dOjKy8vTxx9/rM2bN9caKy0tlSSFh4e7bQ8PD9fXX39t1vj6+iooKKhWzcnHl5aWKiwsrNbzh4WFudWcup+goCD5+vqaNXXJycnRk08++UsvE2h2PH0GyNP7B9A0PDZ0FRcX64EHHlBBQYFatGhx2jqbzea2bhhGrW2nOrWmrvpzqTnVxIkT9dBDD5nrhw8fVmRk5Bl7a2x8mABoSvwbhObMY0NXYWGhysrKFB8fb26rqanRhx9+qNzcXO3atUvST7NQrVu3NmvKysrMWSmn06mqqiqVl5e7zXaVlZWpR48eZs3+/ftr7f/AgQNuz7Nx40a38fLyclVXV9eaAfs5u90uu91e35eOCwwfEgCAs+GxVy/27t1bW7duVVFRkbl07dpVd9xxh4qKinTZZZfJ6XRq1apV5mOqqqq0Zs0aM1DFx8fLx8fHraakpETbtm0zaxISElRRUaFNmzaZNRs3blRFRYVbzbZt21RSUmLWFBQUyG63u4VCAABw8fLYma6AgADFxcW5bfP391dISIi5PTMzU9nZ2YqOjlZ0dLSys7PVsmVLpaWlSZIcDodGjBihcePGKSQkRMHBwRo/frw6depkXs3YsWNH9evXTyNHjtSLL74oSbrnnnuUkpKimJgYSVJSUpJiY2OVnp6uKVOm6ODBgxo/frxGjhzJlYsAAEBSPWe6du/ercLCQrdt7777rm688UZdd911ys7ObtDmzteECROUmZmp0aNHq2vXrvrmm29UUFCggIAAs2b69OkaNGiQhgwZosTERLVs2VJvvvmmvLy8zJolS5aoU6dOSkpKUlJSkjp37qxFixaZ415eXlq5cqVatGihxMREDRkyRIMGDdKzzz5r6esFAAAXrnrNdD388MOKi4szvzLbs2ePUlNT9dvf/ladO3dWTk6OWrZs6XZXeCt98MEHbus2m01ZWVnKyso67WNatGihmTNnaubMmaetCQ4O1uLFi8+477Zt22rFihX1addSnHcEAEDTqlfo2rJliyZMmGCuL1myRFdccYXeeecdSVLnzp01c+bMJgtdAAAAF6p6fb343XffqU2bNub6+++/r9TUVHO9V69e+uqrrxqsOQAAgOaiXjNdwcHBKikpUWRkpE6cOKEtW7bowQcfNMerqqpkGEaDN4kLD3ftBgCgfuoVunr27Kn//d//1fPPP69XX31VJ06ccPuJmx07dqh9+/YN3SNw1jh3DQBwoapX6Jo8ebL69u2r9u3b65JLLtFzzz0nf39/c3zRokW66aabGrxJAAAAT1ev0BUVFaWdO3dqx44datWqldsPPEvSk08+6XbOFwAAAH5S75uj+vj4qEuXLnWOnW47gAsXX8kCgDXqdfVibGysDh48aK7fc889OnDggLleVlamli1bNlx3AAAAzUS9Qtdnn32m48ePm+t5eXk6cuSIuW4Yhn788ceG6w4AAKCZOK8fvK7r9hA2m+18nhIAAKBZOq/QBQAAgLNTr9Bls9lqzWQxswUAAPDL6nX1omEY6t27t7y9f3rYsWPHlJqaKl9fX0lyO98LAAAA/1Wv0DVp0iS39d///ve1am6++ebz6wgAAKAZOq/QBTRn3L8KANCQOJEeAADAAvUKXf/5z3909913m+tt27ZVcHCwubRq1Uq7du1q8CYBAAA8Xb2+Xpw5c6acTqe5Xl5erieeeEJhYWGSpFdeeUXTp0/XCy+80LBdAgAAeLh6ha7Vq1dr5syZbttuvvlmXXbZZZKk9u3b649//GPDdQcAANBM1Ovrxa+//lpRUVHm+h//+Ec5HA5zvX379tq3b1/DdQcAANBM1Ct0XXLJJSorKzPXp0+frpCQEHN9//798vHxabjuAAAAmol6ha6rrrpKq1evPu34O++8o7i4uPNuCgAAoLmpV+i66667NHnyZK1cWfv+RW+++aaefvpp3XXXXQ3WHAAAQHNRrxPpR44cqffee0+pqam68sorFRMTI5vNps8++0y7du3SzTffrJEjRzZWrwAAAB6r3jdHffnll7V06VJdccUV2rVrlz777DNFR0dryZIl+sc//tEYPQIAAHi8es10nXTbbbfptttua+heAAAAmq0G/Rmgjz/+WCkpKQ35lAAAAM1CvUPXqlWr9PDDD+uxxx7Tl19+KUn67LPPNGjQIF177bU6fvx4gzcJAADg6eoVuhYuXKjk5GTNnz9fTz/9tLp3767FixfruuuuU1BQkP79738rPz+/sXoFAADwWPUKXdOnT1d2dra+++475eXl6bvvvtP06dP1ySefaP78+dyjCwAA4DTqFbr+85//6NZbb5Uk/c///I+8vLw0bdo0dejQoVGaAwAAaC7qFboqKyvl7+//0wMvuUQtWrRQZGRkozQGAADQnNT7lhHvvPOO+SPXJ06c0Lvvvqtt27a51QwcOLBhugMAAGgm6h26hg0b5rY+atQot3Wbzaaamprz6woAAKCZqVfoOnHiRGP1AQAA0Kw16M1Ra2pq9MYbbzTkUwIAADQL5/QzQKf67LPPNG/ePC1cuFDl5eWqqqpqiKcFAABoNs55pquyslLz5s1TYmKirrrqKn388ceaPHmyvv3224bsDwAAoFmo90zX+vXr9fe//13/+Mc/FB0drTvuuEMbN27Uc889p9jY2MboEQAAwOPVK3TFxsbqhx9+UFpamjZu3GiGrEcffbRRmgMAAGgu6vX14u7du3XDDTfoxhtvVMeOHRurJwAAgGanXqFrz549iomJ0X333ac2bdpo/Pjx+uSTT2Sz2RqrPwAAgGahXqHr17/+tR5//HHt3r1bixYtUmlpqRITE3X8+HEtWLBAn3/+eWP1CQAA4NHO+erFm266SYsXL1ZJSYlyc3P13nvv6corr1Tnzp0bsj8AAIBm4bxvjupwODR69Ght2bJFH3/8sXr16tUAbZ2dWbNmqXPnzgoMDFRgYKASEhL09ttvm+OGYSgrK0sRERHy8/NTr169tH37drfncLlcGjt2rEJDQ+Xv76+BAwdq3759bjXl5eVKT0+Xw+GQw+FQenq6Dh065Fazd+9epaamyt/fX6GhocrIyOB+ZQAAwNSgd6S/+uqr9dxzzzXkU55RmzZt9PTTT2vLli3asmWLbrrpJv3+9783g9UzzzyjadOmKTc3V5s3b5bT6VTfvn115MgR8zkyMzO1bNky5eXlae3atTp69KhSUlLcfj8yLS1NRUVFys/PV35+voqKipSenm6O19TUaMCAAaqsrNTatWuVl5en1157TePGjbPsWAAAgAtbvW4Zcc011/ziSfM2m02FhYXn1dTZSk1NdVufPHmyZs2apQ0bNig2NlYzZszQ448/rsGDB0uSFi5cqPDwcC1dulSjRo1SRUWF5s6dq0WLFqlPnz6SpMWLFysyMlKrV69WcnKydu7cqfz8fG3YsEHdunWTJM2ZM0cJCQnatWuXYmJiVFBQoB07dqi4uFgRERGSpKlTp2r48OGaPHmyAgMDLTkeAADgwlWv0DVo0CDzvw3DUE5Oju69914FBwc3dF/1VlNTo1dffVWVlZVKSEjQnj17VFpaqqSkJLPGbrerZ8+eWrdunUaNGqXCwkJVV1e71URERCguLk7r1q1TcnKy1q9fL4fDYQYuSerevbscDofWrVunmJgYrV+/XnFxcWbgkqTk5GS5XC4VFhbqxhtvrLNnl8sll8tlrh8+fLghDwkAALiA1Ct0TZo0yW196tSpeuCBB3TZZZc1aFP1sXXrViUkJOjHH3/UpZdeqmXLlik2Nlbr1q2TJIWHh7vVh4eH6+uvv5YklZaWytfXV0FBQbVqSktLzZqwsLBa+w0LC3OrOXU/QUFB8vX1NWvqkpOToyeffLKerxgAAHiiBj2nqynExMSoqKhIGzZs0H333adhw4Zpx44d5vipX4cahvGLX5GeWlNX/bnUnGrixImqqKgwl+Li4jP2BQAAPJfHhy5fX19dfvnl6tq1q3JyctSlSxf99a9/ldPplKRaM01lZWXmrJTT6VRVVZXKy8vPWLN///5a+z1w4IBbzan7KS8vV3V1da0ZsJ+z2+3mlZcnFwAA0Dx5fOg6lWEYcrlcioqKktPp1KpVq8yxqqoqrVmzRj169JAkxcfHy8fHx62mpKRE27ZtM2sSEhJUUVGhTZs2mTUbN25URUWFW822bdtUUlJi1hQUFMhutys+Pr5RXy8AAPAM9Tqn69TbQZy8E31oaKjb9oyMjPPv7Cw89thj6t+/vyIjI3XkyBHl5eXpgw8+UH5+vmw2mzIzM5Wdna3o6GhFR0crOztbLVu2VFpamqSf7jE2YsQIjRs3TiEhIQoODtb48ePVqVMn82rGjh07ql+/fho5cqRefPFFSdI999yjlJQUxcTESJKSkpIUGxur9PR0TZkyRQcPHtT48eM1cuRIZq8AAICkeoau6dOnu607nU4tWrTIbZvNZrMsdO3fv1/p6ekqKSmRw+FQ586dlZ+fr759+0qSJkyYoGPHjmn06NEqLy9Xt27dVFBQoICAAPM5pk+fLm9vbw0ZMkTHjh1T7969tWDBAnl5eZk1S5YsUUZGhnmV48CBA5Wbm2uOe3l5aeXKlRo9erQSExPl5+entLQ0Pfvss5YcBwAAcOGrV+jas2dPY/VxTubOnXvGcZvNpqysLGVlZZ22pkWLFpo5c6Zmzpx52prg4GAtXrz4jPtq27atVqxYccYaAABw8arXOV3vvfeeYmNj67yfVEVFha666ip99NFHDdYcAABAc1Gv0DVjxozTnqfkcDg0atQoTZs2rcGaAwAAaC7qFbr+/e9/q1+/fqcdT0pKsuwngAAAADxJvULX/v375ePjc9pxb29vHThw4LybAgAAaG7qFbp+/etfa+vWracd//TTT9W6devzbgoAAKC5qVfo+t3vfqcnnnhCP/74Y62xY8eOadKkSUpJSWmw5gAAAJqLet0y4k9/+pNef/11XXHFFbr//vsVExMjm82mnTt36m9/+5tqamr0+OOPN1avAAAAHqteoSs8PFzr1q3Tfffdp4kTJ8owDEk/3Q8rOTlZzz///Bl/axAAAOBiVa/QJUnt2rXTW2+9pfLycu3evVuGYSg6OlpBQUGN0R8AAECzUO/QdVJQUJCuvfbahuwFAACg2arXifQAAAA4N4QuAAAACxC6AAAALEDoAgAAsAChCwAAwALnfPUi8EvaP7ryjONfPT3Aok4AAGh6zHQBAABYgNAFAABgAUIXAACABQhdAAAAFiB0AQAAWIDQBQAAYAFCFwAAgAUIXQAAABYgdAEAAFiA0AUAAGABQhcAAIAFCF0AAAAWIHQBAABYgNAFAABgAUIXAACABQhdAAAAFiB0AQAAWIDQBQAAYAFCFwAAgAUIXQAAABYgdAEAAFiA0AUAAGABQhcAAIAFCF0AAAAWIHQBAABYgNAFAABgAUIXAACABQhdAAAAFvDo0JWTk6Nrr71WAQEBCgsL06BBg7Rr1y63GsMwlJWVpYiICPn5+alXr17avn27W43L5dLYsWMVGhoqf39/DRw4UPv27XOrKS8vV3p6uhwOhxwOh9LT03Xo0CG3mr179yo1NVX+/v4KDQ1VRkaGqqqqGuW1AwAAz+LRoWvNmjUaM2aMNmzYoFWrVun48eNKSkpSZWWlWfPMM89o2rRpys3N1ebNm+V0OtW3b18dOXLErMnMzNSyZcuUl5entWvX6ujRo0pJSVFNTY1Zk5aWpqKiIuXn5ys/P19FRUVKT083x2tqajRgwABVVlZq7dq1ysvL02uvvaZx48ZZczAAAMAFzbupGzgf+fn5buvz589XWFiYCgsLdcMNN8gwDM2YMUOPP/64Bg8eLElauHChwsPDtXTpUo0aNUoVFRWaO3euFi1apD59+kiSFi9erMjISK1evVrJycnauXOn8vPztWHDBnXr1k2SNGfOHCUkJGjXrl2KiYlRQUGBduzYoeLiYkVEREiSpk6dquHDh2vy5MkKDAy08MgAAIALjUfPdJ2qoqJCkhQcHCxJ2rNnj0pLS5WUlGTW2O129ezZU+vWrZMkFRYWqrq62q0mIiJCcXFxZs369evlcDjMwCVJ3bt3l8PhcKuJi4szA5ckJScny+VyqbCwsM5+XS6XDh8+7LYAAIDmqdmELsMw9NBDD+n6669XXFycJKm0tFSSFB4e7lYbHh5ujpWWlsrX11dBQUFnrAkLC6u1z7CwMLeaU/cTFBQkX19fs+ZUOTk55jliDodDkZGR9X3ZAADAQzSb0HX//ffr008/1csvv1xrzGazua0bhlFr26lOramr/lxqfm7ixImqqKgwl+Li4jP2BAAAPFezCF1jx47V8uXL9f7776tNmzbmdqfTKUm1ZprKysrMWSmn06mqqiqVl5efsWb//v219nvgwAG3mlP3U15erurq6lozYCfZ7XYFBga6LQAAoHny6NBlGIbuv/9+vf7663rvvfcUFRXlNh4VFSWn06lVq1aZ26qqqrRmzRr16NFDkhQfHy8fHx+3mpKSEm3bts2sSUhIUEVFhTZt2mTWbNy4URUVFW4127ZtU0lJiVlTUFAgu92u+Pj4hn/xAADAo3j01YtjxozR0qVL9c9//lMBAQHmTJPD4ZCfn59sNpsyMzOVnZ2t6OhoRUdHKzs7Wy1btlRaWppZO2LECI0bN04hISEKDg7W+PHj1alTJ/Nqxo4dO6pfv34aOXKkXnzxRUnSPffco5SUFMXExEiSkpKSFBsbq/T0dE2ZMkUHDx7U+PHjNXLkSGawAACAZ4euWbNmSZJ69erltn3+/PkaPny4JGnChAk6duyYRo8erfLycnXr1k0FBQUKCAgw66dPny5vb28NGTJEx44dU+/evbVgwQJ5eXmZNUuWLFFGRoZ5lePAgQOVm5trjnt5eWnlypUaPXq0EhMT5efnp7S0ND377LON9OoBAIAn8ejQZRjGL9bYbDZlZWUpKyvrtDUtWrTQzJkzNXPmzNPWBAcHa/HixWfcV9u2bbVixYpf7AkAAFx8PPqcLgAAAE9B6AIAALAAoQsAAMAChC4AAAALELoAAAAsQOgCAACwAKELAADAAoQuAAAACxC6AAAALEDoAgAAsAChCwAAwAKELgAAAAsQugAAACxA6AIAALAAoQsAAMAChC4AAAALELoAAAAsQOgCAACwAKELAADAAoQuAAAACxC6AAAALEDoAgAAsAChCwAAwAKELgAAAAsQugAAACxA6AIAALAAoQsAAMAChC4AAAALELoAAAAsQOgCAACwAKELAADAAoQuAAAACxC6AAAALEDoAgAAsAChCwAAwAKELgAAAAsQugAAACxA6AIAALAAoQsAAMAChC4AAAALELoAAAAsQOgCAACwAKELAADAAoQuAAAACxC6AAAALODRoevDDz9UamqqIiIiZLPZ9MYbb7iNG4ahrKwsRUREyM/PT7169dL27dvdalwul8aOHavQ0FD5+/tr4MCB2rdvn1tNeXm50tPT5XA45HA4lJ6erkOHDrnV7N27V6mpqfL391doaKgyMjJUVVXVGC8bAAB4II8OXZWVlerSpYtyc3PrHH/mmWc0bdo05ebmavPmzXI6nerbt6+OHDli1mRmZmrZsmXKy8vT2rVrdfToUaWkpKimpsasSUtLU1FRkfLz85Wfn6+ioiKlp6eb4zU1NRowYIAqKyu1du1a5eXl6bXXXtO4ceMa78UDAACP4t3UDZyP/v37q3///nWOGYahGTNm6PHHH9fgwYMlSQsXLlR4eLiWLl2qUaNGqaKiQnPnztWiRYvUp08fSdLixYsVGRmp1atXKzk5WTt37lR+fr42bNigbt26SZLmzJmjhIQE7dq1SzExMSooKNCOHTtUXFysiIgISdLUqVM1fPhwTZ48WYGBgXX26HK55HK5zPXDhw832LEBAAAXFo+e6TqTPXv2qLS0VElJSeY2u92unj17at26dZKkwsJCVVdXu9VEREQoLi7OrFm/fr0cDocZuCSpe/fucjgcbjVxcXFm4JKk5ORkuVwuFRYWnrbHnJwc8ytLh8OhyMjIhnnxAADggtNsQ1dpaakkKTw83G17eHi4OVZaWipfX18FBQWdsSYsLKzW84eFhbnVnLqfoKAg+fr6mjV1mThxoioqKsyluLi4nq8SAAB4Co/+evFs2Gw2t3XDMGptO9WpNXXVn0vNqex2u+x2+xl7AQAAzUOznelyOp2SVGumqayszJyVcjqdqqqqUnl5+Rlr9u/fX+v5Dxw44FZz6n7Ky8tVXV1dawYMAABcnJpt6IqKipLT6dSqVavMbVVVVVqzZo169OghSYqPj5ePj49bTUlJibZt22bWJCQkqKKiQps2bTJrNm7cqIqKCreabdu2qaSkxKwpKCiQ3W5XfHx8o75OAADgGTz668WjR49q9+7d5vqePXtUVFSk4OBgtW3bVpmZmcrOzlZ0dLSio6OVnZ2tli1bKi0tTZLkcDg0YsQIjRs3TiEhIQoODtb48ePVqVMn82rGjh07ql+/fho5cqRefPFFSdI999yjlJQUxcTESJKSkpIUGxur9PR0TZkyRQcPHtT48eM1cuTI0165CAAALi4eHbq2bNmiG2+80Vx/6KGHJEnDhg3TggULNGHCBB07dkyjR49WeXm5unXrpoKCAgUEBJiPmT59ury9vTVkyBAdO3ZMvXv31oIFC+Tl5WXWLFmyRBkZGeZVjgMHDnS7N5iXl5dWrlyp0aNHKzExUX5+fkpLS9Ozzz7b2IcAAAB4CI8OXb169ZJhGKcdt9lsysrKUlZW1mlrWrRooZkzZ2rmzJmnrQkODtbixYvP2Evbtm21YsWKX+wZAABcnJrtOV0AAAAXEkIXAACABQhdAAAAFiB0AQAAWIDQBQAAYAFCFwAAgAUIXQAAABYgdAEAAFiA0AUAAGABQhcAAIAFCF0AAAAWIHQBAABYgNAFAABgAUIXAACABQhdAAAAFiB0AQAAWIDQBQAAYAFCFwAAgAUIXQAAABYgdAEAAFiA0AUAAGABQhcAAIAFCF0AAAAWIHQBAABYgNAFAABgAUIXAACABQhdAAAAFiB0AQAAWIDQBQAAYAFCFwAAgAUIXQAAABYgdAEAAFiA0AUAAGABQhcAAIAFCF0AAAAWIHQBAABYgNAFAABgAUIXAACABQhdAAAAFiB0AQAAWIDQBQAAYAFCFwAAgAUIXQAAABYgdAEAAFiA0NXAnn/+eUVFRalFixaKj4/XRx991NQtAQCACwChqwG98soryszM1OOPP65PPvlEv/3tb9W/f3/t3bu3qVsDAABNjNDVgKZNm6YRI0boj3/8ozp27KgZM2YoMjJSs2bNaurWAABAE/Nu6gaai6qqKhUWFurRRx91256UlKR169bV+RiXyyWXy2WuV1RUSJIOHz7c4P2dcP1wxvGT+2yIuoZ8rqbcp6f3f7Hs09P7v1j26en9N/d9enr/9d1nQzv5vIZhnLnQQIP45ptvDEnGv/71L7ftkydPNq644oo6HzNp0iRDEgsLCwsLC0szWIqLi8+YFZjpamA2m81t3TCMWttOmjhxoh566CFz/cSJEzp48KBCQkJO+5gL0eHDhxUZGani4mIFBgY2dTsXHY5/0+L4Nz3eg6bF8f/ps/7IkSOKiIg4Yx2hq4GEhobKy8tLpaWlbtvLysoUHh5e52Psdrvsdrvbtl/96leN1WKjCwwMvGj/wl0IOP5Ni+Pf9HgPmtbFfvwdDscv1nAifQPx9fVVfHy8Vq1a5bZ91apV6tGjRxN1BQAALhTMdDWghx56SOnp6eratasSEhI0e/Zs7d27V/fee29TtwYAAJoYoasB3Xrrrfr+++/11FNPqaSkRHFxcXrrrbfUrl27pm6tUdntdk2aNKnWV6WwBse/aXH8mx7vQdPi+J89m2H80vWNAAAAOF+c0wUAAGABQhcAAIAFCF0AAAAWIHQBAABYgNCFs5KTk6Nrr71WAQEBCgsL06BBg7Rr1y63GsMwlJWVpYiICPn5+alXr17avn17E3XcvMyaNUudO3c2bz6YkJCgt99+2xzn2FsrJydHNptNmZmZ5jbeg8aVlZUlm83mtjidTnOc49/4vvnmGw0dOlQhISFq2bKlrr76ahUWFprjvAe/jNCFs7JmzRqNGTNGGzZs0KpVq3T8+HElJSWpsrLSrHnmmWc0bdo05ebmavPmzXI6nerbt6+OHDnShJ03D23atNHTTz+tLVu2aMuWLbrpppv0+9//3vwHjWNvnc2bN2v27Nnq3Lmz23beg8Z31VVXqaSkxFy2bt1qjnH8G1d5ebkSExPl4+Ojt99+Wzt27NDUqVPdfkWF9+AsnO8PPePiVFZWZkgy1qxZYxiGYZw4ccJwOp3G008/bdb8+OOPhsPhMF544YWmarNZCwoKMv7+979z7C105MgRIzo62li1apXRs2dP44EHHjAMgz//Vpg0aZLRpUuXOsc4/o3vkUceMa6//vrTjvMenB1munBOKioqJEnBwcGSpD179qi0tFRJSUlmjd1uV8+ePbVu3bom6bG5qqmpUV5eniorK5WQkMCxt9CYMWM0YMAA9enTx20774E1vvjiC0VERCgqKkq33XabvvzyS0kcfyssX75cXbt21S233KKwsDBdc801mjNnjjnOe3B2CF2oN8Mw9NBDD+n6669XXFycJJk/9H3qj3uHh4fX+hFwnJutW7fq0ksvld1u17333qtly5YpNjaWY2+RvLw8ffzxx8rJyak1xnvQ+Lp166aXXnpJ77zzjubMmaPS0lL16NFD33//PcffAl9++aVmzZql6OhovfPOO7r33nuVkZGhl156SRJ/B84WPwOEerv//vv16aefau3atbXGbDab27phGLW24dzExMSoqKhIhw4d0muvvaZhw4ZpzZo15jjHvvEUFxfrgQceUEFBgVq0aHHaOt6DxtO/f3/zvzt16qSEhAR16NBBCxcuVPfu3SVx/BvTiRMn1LVrV2VnZ0uSrrnmGm3fvl2zZs3SnXfeadbxHpwZM12ol7Fjx2r58uV6//331aZNG3P7yauITv0/mrKyslr/54Nz4+vrq8svv1xdu3ZVTk6OunTpor/+9a8cewsUFhaqrKxM8fHx8vb2lre3t9asWaPnnntO3t7e5nHmPbCOv7+/OnXqpC+++IK/AxZo3bq1YmNj3bZ17NhRe/fulcRnwNkidOGsGIah+++/X6+//rree+89RUVFuY1HRUXJ6XRq1apV5raqqiqtWbNGPXr0sLrdi4JhGHK5XBx7C/Tu3Vtbt25VUVGRuXTt2lV33HGHioqKdNlll/EeWMzlcmnnzp1q3bo1fwcskJiYWOs2QZ9//rnatWsnic+As9Z05/DDk9x3332Gw+EwPvjgA6OkpMRcfvjhB7Pm6aefNhwOh/H6668bW7duNW6//XajdevWxuHDh5uw8+Zh4sSJxocffmjs2bPH+PTTT43HHnvMuOSSS4yCggLDMDj2TeHnVy8aBu9BYxs3bpzxwQcfGF9++aWxYcMGIyUlxQgICDC++uorwzA4/o1t06ZNhre3tzF58mTjiy++MJYsWWK0bNnSWLx4sVnDe/DLCF04K5LqXObPn2/WnDhxwpg0aZLhdDoNu91u3HDDDcbWrVubrulm5O677zbatWtn+Pr6Gq1atTJ69+5tBi7D4Ng3hVNDF+9B47r11luN1q1bGz4+PkZERIQxePBgY/v27eY4x7/xvfnmm0ZcXJxht9uNK6+80pg9e7bbOO/BL7MZhmE05UwbAADAxYBzugAAACxA6AIAALAAoQsAAMAChC4AAAALELoAAAAsQOgCAACwAKELAADAAoQuAAAACxC6AAAALEDoAgAAsAChCwAAwAKELgAAAAsQugAAACxA6AIAALAAoQsAAMAChC4AAAALELoAAAAsQOgCAACwAKELAADAAoQuAAAACxC6AAAALEDoAgAAsAChCwAAwAKELgAAAAsQugAAACxA6AKAczR8+HDZbDZzCQkJUb9+/fTpp5+aNSfHNmzY4PZYl8ulkJAQ2Ww2ffDBB271b7zxhkWvAICVCF0AcB769eunkpISlZSU6N1335W3t7dSUlLcaiIjIzV//ny3bcuWLdOll15qZasAmhihCwDOg91ul9PplNPp1NVXX61HHnlExcXFOnDggFkzbNgw5eXl6dixY+a2efPmadiwYU3RMoAmQugCgAZy9OhRLVmyRJdffrlCQkLM7fHx8YqKitJrr70mSSouLtaHH36o9PT0pmoVQBMgdAHAeVixYoUuvfRSXXrppQoICNDy5cv1yiuv6JJL3P95veuuuzRv3jxJ0vz58/W73/1OrVq1aoqWATQRQhcAnIcbb7xRRUVFKioq0saNG5WUlKT+/fvr66+/dqsbOnSo1q9fry+//FILFizQ3Xff3UQdA2gqhC4AOA/+/v66/PLLdfnll+u6667T3LlzVVlZqTlz5rjVhYSEKCUlRSNGjNCPP/6o/v37N1HHAJoKoQsAGpDNZtMll1zidtL8SXfffbc++OAD3XnnnfLy8mqC7gA0Je+mbgAAPJnL5VJpaakkqby8XLm5uTp69KhSU1Nr1fbr108HDhxQYGCg1W0CuAAQugDgPOTn56t169aSpICAAF155ZV69dVX1atXr1q1NptNoaGhFncI4EJhMwzDaOomAAAAmjvO6QIAALAAoQsAAMAChC4AAAALELoAAAAsQOgCAACwAKELAADAAoQuAAAACxC6AAAALEDoAgAAsAChCwAAwAKELgAAAAv8fxO6BC2M98x3AAAAAElFTkSuQmCC",
      "text/plain": [
       "<Figure size 640x480 with 1 Axes>"
      ]
     },
     "metadata": {},
     "output_type": "display_data"
    }
   ],
   "source": [
    "# bmi vs charges\n",
    "plot_bar_chart(df[\"bmi\"], df[\"charges\"],\"BMI\", \"CHARGES\")"
   ]
  },
  {
   "cell_type": "markdown",
   "metadata": {
    "collapsed": false
   },
   "source": [
    "## 3. Preprocessing the Data"
   ]
  },
  {
   "cell_type": "code",
   "execution_count": 30,
   "metadata": {
    "collapsed": false
   },
   "outputs": [
    {
     "data": {
      "text/html": [
       "<div>\n",
       "<style scoped>\n",
       "    .dataframe tbody tr th:only-of-type {\n",
       "        vertical-align: middle;\n",
       "    }\n",
       "\n",
       "    .dataframe tbody tr th {\n",
       "        vertical-align: top;\n",
       "    }\n",
       "\n",
       "    .dataframe thead th {\n",
       "        text-align: right;\n",
       "    }\n",
       "</style>\n",
       "<table border=\"1\" class=\"dataframe\">\n",
       "  <thead>\n",
       "    <tr style=\"text-align: right;\">\n",
       "      <th></th>\n",
       "      <th>age</th>\n",
       "      <th>sex</th>\n",
       "      <th>bmi</th>\n",
       "      <th>children</th>\n",
       "      <th>smoker</th>\n",
       "      <th>region</th>\n",
       "      <th>charges</th>\n",
       "    </tr>\n",
       "  </thead>\n",
       "  <tbody>\n",
       "    <tr>\n",
       "      <th>0</th>\n",
       "      <td>19.0</td>\n",
       "      <td>0.0</td>\n",
       "      <td>27.900</td>\n",
       "      <td>0.0</td>\n",
       "      <td>1.0</td>\n",
       "      <td>4.0</td>\n",
       "      <td>16884.92400</td>\n",
       "    </tr>\n",
       "    <tr>\n",
       "      <th>1</th>\n",
       "      <td>18.0</td>\n",
       "      <td>1.0</td>\n",
       "      <td>33.770</td>\n",
       "      <td>1.0</td>\n",
       "      <td>0.0</td>\n",
       "      <td>3.0</td>\n",
       "      <td>1725.55230</td>\n",
       "    </tr>\n",
       "    <tr>\n",
       "      <th>2</th>\n",
       "      <td>28.0</td>\n",
       "      <td>1.0</td>\n",
       "      <td>33.000</td>\n",
       "      <td>3.0</td>\n",
       "      <td>0.0</td>\n",
       "      <td>3.0</td>\n",
       "      <td>4449.46200</td>\n",
       "    </tr>\n",
       "    <tr>\n",
       "      <th>3</th>\n",
       "      <td>33.0</td>\n",
       "      <td>1.0</td>\n",
       "      <td>22.705</td>\n",
       "      <td>0.0</td>\n",
       "      <td>0.0</td>\n",
       "      <td>2.0</td>\n",
       "      <td>21984.47061</td>\n",
       "    </tr>\n",
       "    <tr>\n",
       "      <th>4</th>\n",
       "      <td>32.0</td>\n",
       "      <td>1.0</td>\n",
       "      <td>28.880</td>\n",
       "      <td>0.0</td>\n",
       "      <td>0.0</td>\n",
       "      <td>2.0</td>\n",
       "      <td>3866.85520</td>\n",
       "    </tr>\n",
       "  </tbody>\n",
       "</table>\n",
       "</div>"
      ],
      "text/plain": [
       "    age  sex     bmi  children  smoker  region      charges\n",
       "0  19.0  0.0  27.900       0.0     1.0     4.0  16884.92400\n",
       "1  18.0  1.0  33.770       1.0     0.0     3.0   1725.55230\n",
       "2  28.0  1.0  33.000       3.0     0.0     3.0   4449.46200\n",
       "3  33.0  1.0  22.705       0.0     0.0     2.0  21984.47061\n",
       "4  32.0  1.0  28.880       0.0     0.0     2.0   3866.85520"
      ]
     },
     "execution_count": 30,
     "metadata": {},
     "output_type": "execute_result"
    }
   ],
   "source": [
    "# taking a copy of the original dataframe\n",
    "temp_df = df.copy(deep=False)\n",
    "\n",
    "# Turning the categorical columns into numbers\n",
    "temp_df[\"sex\"] = pd.Categorical(df[\"sex\"]).codes.astype(\"float\")\n",
    "temp_df[\"smoker\"] = pd.Categorical(df[\"smoker\"]).codes.astype(\"float\")\n",
    "temp_df[\"region\"] = pd.Categorical(temp_df[\"region\"]).codes.astype(\"float\")+1\n",
    "temp_df[\"children\"] = temp_df[\"children\"].astype(\"float\")\n",
    "temp_df[\"age\"] = temp_df[\"age\"].astype(\"float\")\n",
    "\n",
    "# viewing the dataframe\n",
    "temp_df.head()"
   ]
  },
  {
   "cell_type": "code",
   "execution_count": 31,
   "metadata": {
    "collapsed": false
   },
   "outputs": [
    {
     "data": {
      "text/html": [
       "<div>\n",
       "<style scoped>\n",
       "    .dataframe tbody tr th:only-of-type {\n",
       "        vertical-align: middle;\n",
       "    }\n",
       "\n",
       "    .dataframe tbody tr th {\n",
       "        vertical-align: top;\n",
       "    }\n",
       "\n",
       "    .dataframe thead th {\n",
       "        text-align: right;\n",
       "    }\n",
       "</style>\n",
       "<table border=\"1\" class=\"dataframe\">\n",
       "  <thead>\n",
       "    <tr style=\"text-align: right;\">\n",
       "      <th></th>\n",
       "      <th>age</th>\n",
       "      <th>sex</th>\n",
       "      <th>bmi</th>\n",
       "      <th>children</th>\n",
       "      <th>smoker</th>\n",
       "      <th>region</th>\n",
       "      <th>charges</th>\n",
       "    </tr>\n",
       "  </thead>\n",
       "  <tbody>\n",
       "    <tr>\n",
       "      <th>0</th>\n",
       "      <td>19</td>\n",
       "      <td>female</td>\n",
       "      <td>27.900</td>\n",
       "      <td>0</td>\n",
       "      <td>yes</td>\n",
       "      <td>southwest</td>\n",
       "      <td>16884.92400</td>\n",
       "    </tr>\n",
       "    <tr>\n",
       "      <th>1</th>\n",
       "      <td>18</td>\n",
       "      <td>male</td>\n",
       "      <td>33.770</td>\n",
       "      <td>1</td>\n",
       "      <td>no</td>\n",
       "      <td>southeast</td>\n",
       "      <td>1725.55230</td>\n",
       "    </tr>\n",
       "    <tr>\n",
       "      <th>2</th>\n",
       "      <td>28</td>\n",
       "      <td>male</td>\n",
       "      <td>33.000</td>\n",
       "      <td>3</td>\n",
       "      <td>no</td>\n",
       "      <td>southeast</td>\n",
       "      <td>4449.46200</td>\n",
       "    </tr>\n",
       "    <tr>\n",
       "      <th>3</th>\n",
       "      <td>33</td>\n",
       "      <td>male</td>\n",
       "      <td>22.705</td>\n",
       "      <td>0</td>\n",
       "      <td>no</td>\n",
       "      <td>northwest</td>\n",
       "      <td>21984.47061</td>\n",
       "    </tr>\n",
       "    <tr>\n",
       "      <th>4</th>\n",
       "      <td>32</td>\n",
       "      <td>male</td>\n",
       "      <td>28.880</td>\n",
       "      <td>0</td>\n",
       "      <td>no</td>\n",
       "      <td>northwest</td>\n",
       "      <td>3866.85520</td>\n",
       "    </tr>\n",
       "  </tbody>\n",
       "</table>\n",
       "</div>"
      ],
      "text/plain": [
       "   age     sex     bmi  children smoker     region      charges\n",
       "0   19  female  27.900         0    yes  southwest  16884.92400\n",
       "1   18    male  33.770         1     no  southeast   1725.55230\n",
       "2   28    male  33.000         3     no  southeast   4449.46200\n",
       "3   33    male  22.705         0     no  northwest  21984.47061\n",
       "4   32    male  28.880         0     no  northwest   3866.85520"
      ]
     },
     "execution_count": 31,
     "metadata": {},
     "output_type": "execute_result"
    }
   ],
   "source": [
    "# original data is unaffected\n",
    "df.head()"
   ]
  },
  {
   "cell_type": "code",
   "execution_count": 32,
   "metadata": {
    "collapsed": false
   },
   "outputs": [
    {
     "data": {
      "text/plain": [
       "age         float64\n",
       "sex         float64\n",
       "bmi         float64\n",
       "children    float64\n",
       "smoker      float64\n",
       "region      float64\n",
       "charges     float64\n",
       "dtype: object"
      ]
     },
     "execution_count": 32,
     "metadata": {},
     "output_type": "execute_result"
    }
   ],
   "source": [
    "# datatypes of all the columns are converted into float\n",
    "temp_df.dtypes"
   ]
  },
  {
   "cell_type": "code",
   "execution_count": 33,
   "metadata": {
    "collapsed": false
   },
   "outputs": [
    {
     "data": {
      "text/plain": [
       "3.0    364\n",
       "4.0    325\n",
       "2.0    325\n",
       "1.0    324\n",
       "Name: region, dtype: int64"
      ]
     },
     "execution_count": 33,
     "metadata": {},
     "output_type": "execute_result"
    }
   ],
   "source": [
    "temp_df[\"region\"].value_counts()"
   ]
  },
  {
   "cell_type": "code",
   "execution_count": 34,
   "metadata": {
    "collapsed": false
   },
   "outputs": [
    {
     "data": {
      "text/plain": [
       "southeast    364\n",
       "southwest    325\n",
       "northwest    325\n",
       "northeast    324\n",
       "Name: region, dtype: int64"
      ]
     },
     "execution_count": 34,
     "metadata": {},
     "output_type": "execute_result"
    }
   ],
   "source": [
    "df[\"region\"].value_counts()"
   ]
  },
  {
   "cell_type": "code",
   "execution_count": 35,
   "metadata": {},
   "outputs": [
    {
     "data": {
      "text/plain": [
       "((1338, 6), (1338,))"
      ]
     },
     "execution_count": 35,
     "metadata": {},
     "output_type": "execute_result"
    }
   ],
   "source": [
    "# Splitting features and target\n",
    "X = temp_df.drop(\"charges\", axis=1)\n",
    "y = df[\"charges\"]\n",
    "X.shape, y.shape"
   ]
  },
  {
   "cell_type": "markdown",
   "metadata": {
    "collapsed": false
   },
   "source": [
    "### 3.1. Correlation Matrix"
   ]
  },
  {
   "cell_type": "code",
   "execution_count": 36,
   "metadata": {
    "collapsed": false
   },
   "outputs": [
    {
     "data": {
      "image/png": "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",
      "text/plain": [
       "<Figure size 1000x1000 with 2 Axes>"
      ]
     },
     "metadata": {},
     "output_type": "display_data"
    }
   ],
   "source": [
    "# plotting a Correlation Matrix\n",
    "fig, ax = plt.subplots(figsize=(10,10))\n",
    "ax = sns.heatmap(temp_df.corr(), annot=True, cmap=\"coolwarm\")\n",
    "plt.yticks(rotation=0);\n",
    "# based on the color of the squares, feature's correlation with target can be identified"
   ]
  },
  {
   "cell_type": "markdown",
   "metadata": {
    "collapsed": false
   },
   "source": [
    "### 3.2. Splitting the data into Train and Test Splits"
   ]
  },
  {
   "cell_type": "code",
   "execution_count": 37,
   "metadata": {
    "collapsed": false
   },
   "outputs": [
    {
     "data": {
      "text/plain": [
       "(1070, 268)"
      ]
     },
     "execution_count": 37,
     "metadata": {},
     "output_type": "execute_result"
    }
   ],
   "source": [
    "# splitting the data into train and test sets\n",
    "X_train, X_test, y_train, y_test = train_test_split(X, y, test_size=0.2, shuffle=True ,random_state=42)\n",
    "len(X_train), len(X_test)"
   ]
  },
  {
   "cell_type": "code",
   "execution_count": 38,
   "metadata": {
    "collapsed": false
   },
   "outputs": [
    {
     "data": {
      "text/html": [
       "<div>\n",
       "<style scoped>\n",
       "    .dataframe tbody tr th:only-of-type {\n",
       "        vertical-align: middle;\n",
       "    }\n",
       "\n",
       "    .dataframe tbody tr th {\n",
       "        vertical-align: top;\n",
       "    }\n",
       "\n",
       "    .dataframe thead th {\n",
       "        text-align: right;\n",
       "    }\n",
       "</style>\n",
       "<table border=\"1\" class=\"dataframe\">\n",
       "  <thead>\n",
       "    <tr style=\"text-align: right;\">\n",
       "      <th></th>\n",
       "      <th>age</th>\n",
       "      <th>sex</th>\n",
       "      <th>bmi</th>\n",
       "      <th>children</th>\n",
       "      <th>smoker</th>\n",
       "      <th>region</th>\n",
       "    </tr>\n",
       "  </thead>\n",
       "  <tbody>\n",
       "    <tr>\n",
       "      <th>560</th>\n",
       "      <td>46.0</td>\n",
       "      <td>0.0</td>\n",
       "      <td>19.95</td>\n",
       "      <td>2.0</td>\n",
       "      <td>0.0</td>\n",
       "      <td>2.0</td>\n",
       "    </tr>\n",
       "    <tr>\n",
       "      <th>1285</th>\n",
       "      <td>47.0</td>\n",
       "      <td>0.0</td>\n",
       "      <td>24.32</td>\n",
       "      <td>0.0</td>\n",
       "      <td>0.0</td>\n",
       "      <td>1.0</td>\n",
       "    </tr>\n",
       "    <tr>\n",
       "      <th>1142</th>\n",
       "      <td>52.0</td>\n",
       "      <td>0.0</td>\n",
       "      <td>24.86</td>\n",
       "      <td>0.0</td>\n",
       "      <td>0.0</td>\n",
       "      <td>3.0</td>\n",
       "    </tr>\n",
       "  </tbody>\n",
       "</table>\n",
       "</div>"
      ],
      "text/plain": [
       "       age  sex    bmi  children  smoker  region\n",
       "560   46.0  0.0  19.95       2.0     0.0     2.0\n",
       "1285  47.0  0.0  24.32       0.0     0.0     1.0\n",
       "1142  52.0  0.0  24.86       0.0     0.0     3.0"
      ]
     },
     "execution_count": 38,
     "metadata": {},
     "output_type": "execute_result"
    }
   ],
   "source": [
    "X_train[:3]"
   ]
  },
  {
   "cell_type": "code",
   "execution_count": 39,
   "metadata": {
    "collapsed": false
   },
   "outputs": [
    {
     "data": {
      "text/plain": [
       "pandas.core.frame.DataFrame"
      ]
     },
     "execution_count": 39,
     "metadata": {},
     "output_type": "execute_result"
    }
   ],
   "source": [
    "type(X_train)"
   ]
  },
  {
   "cell_type": "markdown",
   "metadata": {
    "collapsed": false
   },
   "source": [
    "## 4. Evaluating Models"
   ]
  },
  {
   "cell_type": "code",
   "execution_count": 40,
   "metadata": {
    "collapsed": false
   },
   "outputs": [],
   "source": [
    "# creating a metrics dataframe to store the results\n",
    "metrics_df = pd.DataFrame(columns=[\"RandomForestRegressor\", \"DecisionTreeRegressor\", \"LinearRegression\", \"SVR\", \"XGBRegressor\", \"XGBRFRegressor\"],\n",
    "                          index=[\"R2_Score\", \"Mean_absolute_error\",\"Mean_squared_error\", \"cross_val_r2_score\",\"cross_val_mae\", \"cross_val_mse\"])"
   ]
  },
  {
   "cell_type": "code",
   "execution_count": 41,
   "metadata": {
    "collapsed": false
   },
   "outputs": [
    {
     "name": "stderr",
     "output_type": "stream",
     "text": [
      "c:\\Users\\Kathir\\anaconda3\\envs\\ML\\lib\\site-packages\\xgboost\\data.py:250: FutureWarning: pandas.Int64Index is deprecated and will be removed from pandas in a future version. Use pandas.Index with the appropriate dtype instead.\n",
      "  elif isinstance(data.columns, (pd.Int64Index, pd.RangeIndex)):\n",
      "c:\\Users\\Kathir\\anaconda3\\envs\\ML\\lib\\site-packages\\xgboost\\data.py:250: FutureWarning: pandas.Int64Index is deprecated and will be removed from pandas in a future version. Use pandas.Index with the appropriate dtype instead.\n",
      "  elif isinstance(data.columns, (pd.Int64Index, pd.RangeIndex)):\n",
      "c:\\Users\\Kathir\\anaconda3\\envs\\ML\\lib\\site-packages\\xgboost\\data.py:250: FutureWarning: pandas.Int64Index is deprecated and will be removed from pandas in a future version. Use pandas.Index with the appropriate dtype instead.\n",
      "  elif isinstance(data.columns, (pd.Int64Index, pd.RangeIndex)):\n",
      "c:\\Users\\Kathir\\anaconda3\\envs\\ML\\lib\\site-packages\\xgboost\\data.py:250: FutureWarning: pandas.Int64Index is deprecated and will be removed from pandas in a future version. Use pandas.Index with the appropriate dtype instead.\n",
      "  elif isinstance(data.columns, (pd.Int64Index, pd.RangeIndex)):\n",
      "c:\\Users\\Kathir\\anaconda3\\envs\\ML\\lib\\site-packages\\xgboost\\data.py:250: FutureWarning: pandas.Int64Index is deprecated and will be removed from pandas in a future version. Use pandas.Index with the appropriate dtype instead.\n",
      "  elif isinstance(data.columns, (pd.Int64Index, pd.RangeIndex)):\n",
      "c:\\Users\\Kathir\\anaconda3\\envs\\ML\\lib\\site-packages\\xgboost\\data.py:250: FutureWarning: pandas.Int64Index is deprecated and will be removed from pandas in a future version. Use pandas.Index with the appropriate dtype instead.\n",
      "  elif isinstance(data.columns, (pd.Int64Index, pd.RangeIndex)):\n",
      "c:\\Users\\Kathir\\anaconda3\\envs\\ML\\lib\\site-packages\\xgboost\\data.py:250: FutureWarning: pandas.Int64Index is deprecated and will be removed from pandas in a future version. Use pandas.Index with the appropriate dtype instead.\n",
      "  elif isinstance(data.columns, (pd.Int64Index, pd.RangeIndex)):\n",
      "c:\\Users\\Kathir\\anaconda3\\envs\\ML\\lib\\site-packages\\xgboost\\data.py:250: FutureWarning: pandas.Int64Index is deprecated and will be removed from pandas in a future version. Use pandas.Index with the appropriate dtype instead.\n",
      "  elif isinstance(data.columns, (pd.Int64Index, pd.RangeIndex)):\n",
      "c:\\Users\\Kathir\\anaconda3\\envs\\ML\\lib\\site-packages\\xgboost\\data.py:250: FutureWarning: pandas.Int64Index is deprecated and will be removed from pandas in a future version. Use pandas.Index with the appropriate dtype instead.\n",
      "  elif isinstance(data.columns, (pd.Int64Index, pd.RangeIndex)):\n",
      "c:\\Users\\Kathir\\anaconda3\\envs\\ML\\lib\\site-packages\\xgboost\\data.py:250: FutureWarning: pandas.Int64Index is deprecated and will be removed from pandas in a future version. Use pandas.Index with the appropriate dtype instead.\n",
      "  elif isinstance(data.columns, (pd.Int64Index, pd.RangeIndex)):\n",
      "c:\\Users\\Kathir\\anaconda3\\envs\\ML\\lib\\site-packages\\xgboost\\data.py:250: FutureWarning: pandas.Int64Index is deprecated and will be removed from pandas in a future version. Use pandas.Index with the appropriate dtype instead.\n",
      "  elif isinstance(data.columns, (pd.Int64Index, pd.RangeIndex)):\n",
      "c:\\Users\\Kathir\\anaconda3\\envs\\ML\\lib\\site-packages\\xgboost\\data.py:250: FutureWarning: pandas.Int64Index is deprecated and will be removed from pandas in a future version. Use pandas.Index with the appropriate dtype instead.\n",
      "  elif isinstance(data.columns, (pd.Int64Index, pd.RangeIndex)):\n",
      "c:\\Users\\Kathir\\anaconda3\\envs\\ML\\lib\\site-packages\\xgboost\\data.py:250: FutureWarning: pandas.Int64Index is deprecated and will be removed from pandas in a future version. Use pandas.Index with the appropriate dtype instead.\n",
      "  elif isinstance(data.columns, (pd.Int64Index, pd.RangeIndex)):\n",
      "c:\\Users\\Kathir\\anaconda3\\envs\\ML\\lib\\site-packages\\xgboost\\data.py:250: FutureWarning: pandas.Int64Index is deprecated and will be removed from pandas in a future version. Use pandas.Index with the appropriate dtype instead.\n",
      "  elif isinstance(data.columns, (pd.Int64Index, pd.RangeIndex)):\n",
      "c:\\Users\\Kathir\\anaconda3\\envs\\ML\\lib\\site-packages\\xgboost\\data.py:250: FutureWarning: pandas.Int64Index is deprecated and will be removed from pandas in a future version. Use pandas.Index with the appropriate dtype instead.\n",
      "  elif isinstance(data.columns, (pd.Int64Index, pd.RangeIndex)):\n",
      "c:\\Users\\Kathir\\anaconda3\\envs\\ML\\lib\\site-packages\\xgboost\\data.py:250: FutureWarning: pandas.Int64Index is deprecated and will be removed from pandas in a future version. Use pandas.Index with the appropriate dtype instead.\n",
      "  elif isinstance(data.columns, (pd.Int64Index, pd.RangeIndex)):\n",
      "c:\\Users\\Kathir\\anaconda3\\envs\\ML\\lib\\site-packages\\xgboost\\data.py:250: FutureWarning: pandas.Int64Index is deprecated and will be removed from pandas in a future version. Use pandas.Index with the appropriate dtype instead.\n",
      "  elif isinstance(data.columns, (pd.Int64Index, pd.RangeIndex)):\n",
      "c:\\Users\\Kathir\\anaconda3\\envs\\ML\\lib\\site-packages\\xgboost\\data.py:250: FutureWarning: pandas.Int64Index is deprecated and will be removed from pandas in a future version. Use pandas.Index with the appropriate dtype instead.\n",
      "  elif isinstance(data.columns, (pd.Int64Index, pd.RangeIndex)):\n",
      "c:\\Users\\Kathir\\anaconda3\\envs\\ML\\lib\\site-packages\\xgboost\\data.py:250: FutureWarning: pandas.Int64Index is deprecated and will be removed from pandas in a future version. Use pandas.Index with the appropriate dtype instead.\n",
      "  elif isinstance(data.columns, (pd.Int64Index, pd.RangeIndex)):\n",
      "c:\\Users\\Kathir\\anaconda3\\envs\\ML\\lib\\site-packages\\xgboost\\data.py:250: FutureWarning: pandas.Int64Index is deprecated and will be removed from pandas in a future version. Use pandas.Index with the appropriate dtype instead.\n",
      "  elif isinstance(data.columns, (pd.Int64Index, pd.RangeIndex)):\n",
      "c:\\Users\\Kathir\\anaconda3\\envs\\ML\\lib\\site-packages\\xgboost\\data.py:250: FutureWarning: pandas.Int64Index is deprecated and will be removed from pandas in a future version. Use pandas.Index with the appropriate dtype instead.\n",
      "  elif isinstance(data.columns, (pd.Int64Index, pd.RangeIndex)):\n",
      "c:\\Users\\Kathir\\anaconda3\\envs\\ML\\lib\\site-packages\\xgboost\\data.py:250: FutureWarning: pandas.Int64Index is deprecated and will be removed from pandas in a future version. Use pandas.Index with the appropriate dtype instead.\n",
      "  elif isinstance(data.columns, (pd.Int64Index, pd.RangeIndex)):\n",
      "c:\\Users\\Kathir\\anaconda3\\envs\\ML\\lib\\site-packages\\xgboost\\data.py:250: FutureWarning: pandas.Int64Index is deprecated and will be removed from pandas in a future version. Use pandas.Index with the appropriate dtype instead.\n",
      "  elif isinstance(data.columns, (pd.Int64Index, pd.RangeIndex)):\n",
      "c:\\Users\\Kathir\\anaconda3\\envs\\ML\\lib\\site-packages\\xgboost\\data.py:250: FutureWarning: pandas.Int64Index is deprecated and will be removed from pandas in a future version. Use pandas.Index with the appropriate dtype instead.\n",
      "  elif isinstance(data.columns, (pd.Int64Index, pd.RangeIndex)):\n",
      "c:\\Users\\Kathir\\anaconda3\\envs\\ML\\lib\\site-packages\\xgboost\\data.py:250: FutureWarning: pandas.Int64Index is deprecated and will be removed from pandas in a future version. Use pandas.Index with the appropriate dtype instead.\n",
      "  elif isinstance(data.columns, (pd.Int64Index, pd.RangeIndex)):\n",
      "c:\\Users\\Kathir\\anaconda3\\envs\\ML\\lib\\site-packages\\xgboost\\data.py:250: FutureWarning: pandas.Int64Index is deprecated and will be removed from pandas in a future version. Use pandas.Index with the appropriate dtype instead.\n",
      "  elif isinstance(data.columns, (pd.Int64Index, pd.RangeIndex)):\n",
      "c:\\Users\\Kathir\\anaconda3\\envs\\ML\\lib\\site-packages\\xgboost\\data.py:250: FutureWarning: pandas.Int64Index is deprecated and will be removed from pandas in a future version. Use pandas.Index with the appropriate dtype instead.\n",
      "  elif isinstance(data.columns, (pd.Int64Index, pd.RangeIndex)):\n",
      "c:\\Users\\Kathir\\anaconda3\\envs\\ML\\lib\\site-packages\\xgboost\\data.py:250: FutureWarning: pandas.Int64Index is deprecated and will be removed from pandas in a future version. Use pandas.Index with the appropriate dtype instead.\n",
      "  elif isinstance(data.columns, (pd.Int64Index, pd.RangeIndex)):\n",
      "c:\\Users\\Kathir\\anaconda3\\envs\\ML\\lib\\site-packages\\xgboost\\data.py:250: FutureWarning: pandas.Int64Index is deprecated and will be removed from pandas in a future version. Use pandas.Index with the appropriate dtype instead.\n",
      "  elif isinstance(data.columns, (pd.Int64Index, pd.RangeIndex)):\n",
      "c:\\Users\\Kathir\\anaconda3\\envs\\ML\\lib\\site-packages\\xgboost\\data.py:250: FutureWarning: pandas.Int64Index is deprecated and will be removed from pandas in a future version. Use pandas.Index with the appropriate dtype instead.\n",
      "  elif isinstance(data.columns, (pd.Int64Index, pd.RangeIndex)):\n"
     ]
    },
    {
     "data": {
      "text/html": [
       "<div>\n",
       "<style scoped>\n",
       "    .dataframe tbody tr th:only-of-type {\n",
       "        vertical-align: middle;\n",
       "    }\n",
       "\n",
       "    .dataframe tbody tr th {\n",
       "        vertical-align: top;\n",
       "    }\n",
       "\n",
       "    .dataframe thead th {\n",
       "        text-align: right;\n",
       "    }\n",
       "</style>\n",
       "<table border=\"1\" class=\"dataframe\">\n",
       "  <thead>\n",
       "    <tr style=\"text-align: right;\">\n",
       "      <th></th>\n",
       "      <th>RandomForestRegressor</th>\n",
       "      <th>DecisionTreeRegressor</th>\n",
       "      <th>LinearRegression</th>\n",
       "      <th>SVR</th>\n",
       "      <th>XGBRegressor</th>\n",
       "      <th>XGBRFRegressor</th>\n",
       "    </tr>\n",
       "  </thead>\n",
       "  <tbody>\n",
       "    <tr>\n",
       "      <th>R2_Score</th>\n",
       "      <td>86.56</td>\n",
       "      <td>69.52</td>\n",
       "      <td>78.33</td>\n",
       "      <td>-7.23</td>\n",
       "      <td>85.55</td>\n",
       "      <td>87.61</td>\n",
       "    </tr>\n",
       "    <tr>\n",
       "      <th>Mean_absolute_error</th>\n",
       "      <td>2448.9034</td>\n",
       "      <td>3088.3069</td>\n",
       "      <td>4186.5089</td>\n",
       "      <td>8592.4227</td>\n",
       "      <td>2566.3321</td>\n",
       "      <td>2484.1711</td>\n",
       "    </tr>\n",
       "    <tr>\n",
       "      <th>Mean_squared_error</th>\n",
       "      <td>20861922.9004</td>\n",
       "      <td>47317065.3024</td>\n",
       "      <td>33635210.4312</td>\n",
       "      <td>166472819.3748</td>\n",
       "      <td>22432257.2679</td>\n",
       "      <td>19233507.7595</td>\n",
       "    </tr>\n",
       "    <tr>\n",
       "      <th>cross_val_r2_score</th>\n",
       "      <td>85.27</td>\n",
       "      <td>73.63</td>\n",
       "      <td>76.09</td>\n",
       "      <td>13.77</td>\n",
       "      <td>82.08</td>\n",
       "      <td>85.38</td>\n",
       "    </tr>\n",
       "    <tr>\n",
       "      <th>cross_val_mae</th>\n",
       "      <td>2588.8678</td>\n",
       "      <td>3249.4971</td>\n",
       "      <td>4192.5641</td>\n",
       "      <td>8588.9650</td>\n",
       "      <td>2831.8585</td>\n",
       "      <td>2603.2725</td>\n",
       "    </tr>\n",
       "    <tr>\n",
       "      <th>cross_val_mse</th>\n",
       "      <td>22239484.2514</td>\n",
       "      <td>39978177.5593</td>\n",
       "      <td>35973543.1258</td>\n",
       "      <td>175415636.6288</td>\n",
       "      <td>27475605.7952</td>\n",
       "      <td>22323851.2201</td>\n",
       "    </tr>\n",
       "  </tbody>\n",
       "</table>\n",
       "</div>"
      ],
      "text/plain": [
       "                    RandomForestRegressor DecisionTreeRegressor  \\\n",
       "R2_Score                            86.56                 69.52   \n",
       "Mean_absolute_error             2448.9034             3088.3069   \n",
       "Mean_squared_error          20861922.9004         47317065.3024   \n",
       "cross_val_r2_score                  85.27                 73.63   \n",
       "cross_val_mae                   2588.8678             3249.4971   \n",
       "cross_val_mse               22239484.2514         39978177.5593   \n",
       "\n",
       "                    LinearRegression             SVR   XGBRegressor  \\\n",
       "R2_Score                       78.33           -7.23          85.55   \n",
       "Mean_absolute_error        4186.5089       8592.4227      2566.3321   \n",
       "Mean_squared_error     33635210.4312  166472819.3748  22432257.2679   \n",
       "cross_val_r2_score             76.09           13.77          82.08   \n",
       "cross_val_mae              4192.5641       8588.9650      2831.8585   \n",
       "cross_val_mse          35973543.1258  175415636.6288  27475605.7952   \n",
       "\n",
       "                    XGBRFRegressor  \n",
       "R2_Score                     87.61  \n",
       "Mean_absolute_error      2484.1711  \n",
       "Mean_squared_error   19233507.7595  \n",
       "cross_val_r2_score           85.38  \n",
       "cross_val_mae            2603.2725  \n",
       "cross_val_mse        22323851.2201  "
      ]
     },
     "execution_count": 41,
     "metadata": {},
     "output_type": "execute_result"
    }
   ],
   "source": [
    "np.random.seed=42\n",
    "# creating a dictionary of models to iterate over each model\n",
    "models = {\n",
    "    \"RandomForestRegressor\": RandomForestRegressor(),\n",
    "    \"DecisionTreeRegressor\": DecisionTreeRegressor(),\n",
    "    \"LinearRegression\": LinearRegression(),\n",
    "    \"SVR\": SVR(),\n",
    "    \"XGBRegressor\": xgb.XGBRegressor(),\n",
    "    \"XGBRFRegressor\": xgb.XGBRFRegressor()\n",
    "}\n",
    "\n",
    "# iterating over the models dictionary\n",
    "for key, value in models.items():\n",
    "    # fitting the model\n",
    "    value.fit(X_train, y_train)\n",
    "    # making predictions\n",
    "    y_preds = value.predict(X_test)\n",
    "\n",
    "    # calculating the evaluation metrics to determine which model performs best out of selected models\n",
    "    # calculating 5-fold cross validated r2_score, mean_absolute_error, mean_squared_error\n",
    "    cv_r2_score = abs(np.mean(cross_val_score(value, X_test, y_test, cv=5, scoring=\"r2\")))\n",
    "    cv_mae_score = abs(np.mean(cross_val_score(value, X_test, y_test, cv=5, scoring=\"neg_mean_absolute_error\")))\n",
    "    cv_mse_score = abs(np.mean(cross_val_score(value, X_test, y_test, cv=5, scoring=\"neg_mean_squared_error\")))\n",
    "\n",
    "    # calculating r2_score, mean_absolute_error, mean_squared_error without cross validation\n",
    "    metrics_df[key] = [float(f\"{r2_score(y_test, y_preds):.4f}\")*100,\n",
    "                     f\"{mean_absolute_error(y_test, y_preds):.4f}\",\n",
    "                    f\"{mean_squared_error(y_test, y_preds):.4f}\",\n",
    "                     #  None, None, None]\n",
    "                    float(f\"{cv_r2_score:.4f}\")*100, f\"{cv_mae_score:.4f}\", f\"{cv_mse_score:.4f}\"]\n",
    "\n",
    "metrics_df\n",
   ]
  },
  {
   "cell_type": "markdown",
   "metadata": {
    "collapsed": false
   },
   "source": [
    "* **The XGBRFRegressor Model performs well than all the other models**"
   ]
  },
  {
   "cell_type": "markdown",
   "metadata": {
    "collapsed": false
   },
   "source": [
    "## 5. Hyperparameter Tuning"
   ]
  },
  {
   "cell_type": "markdown",
   "metadata": {
    "collapsed": false
   },
   "source": [
    "* We choose the **XGBRFRegressor model** for hyperparameter tuning"
   ]
  },
  {
   "cell_type": "code",
   "execution_count": 42,
   "metadata": {
    "collapsed": false
   },
   "outputs": [
    {
     "data": {
      "text/plain": [
       "{'colsample_bynode': 0.8,\n",
       " 'learning_rate': 1.0,\n",
       " 'reg_lambda': 1e-05,\n",
       " 'subsample': 0.8,\n",
       " 'objective': 'reg:squarederror',\n",
       " 'base_score': None,\n",
       " 'booster': None,\n",
       " 'colsample_bylevel': None,\n",
       " 'colsample_bytree': None,\n",
       " 'enable_categorical': False,\n",
       " 'gamma': None,\n",
       " 'gpu_id': None,\n",
       " 'importance_type': None,\n",
       " 'interaction_constraints': None,\n",
       " 'max_delta_step': None,\n",
       " 'max_depth': None,\n",
       " 'min_child_weight': None,\n",
       " 'missing': nan,\n",
       " 'monotone_constraints': None,\n",
       " 'n_estimators': 100,\n",
       " 'n_jobs': None,\n",
       " 'num_parallel_tree': None,\n",
       " 'predictor': None,\n",
       " 'random_state': 42,\n",
       " 'reg_alpha': None,\n",
       " 'scale_pos_weight': None,\n",
       " 'tree_method': None,\n",
       " 'validate_parameters': None,\n",
       " 'verbosity': None}"
      ]
     },
     "execution_count": 42,
     "metadata": {},
     "output_type": "execute_result"
    }
   ],
   "source": [
    "# setting random seed\n",
    "np.random.seed=42\n",
    "model = xgb.XGBRFRegressor(random_state=42)\n",
    "\n",
    "# getting the model's hyperparameters in order to tune them\n",
    "model.get_params()"
   ]
  },
  {
   "cell_type": "markdown",
   "metadata": {
    "collapsed": false
   },
   "source": [
    "### 5.1. Performing GridSearchCV"
   ]
  },
  {
   "cell_type": "code",
   "execution_count": 43,
   "metadata": {
    "collapsed": false
   },
   "outputs": [
    {
     "name": "stderr",
     "output_type": "stream",
     "text": [
      "c:\\Users\\Kathir\\anaconda3\\envs\\ML\\lib\\site-packages\\xgboost\\data.py:250: FutureWarning: pandas.Int64Index is deprecated and will be removed from pandas in a future version. Use pandas.Index with the appropriate dtype instead.\n",
      "  elif isinstance(data.columns, (pd.Int64Index, pd.RangeIndex)):\n"
     ]
    },
    {
     "data": {
      "text/plain": [
       "84.97837346871748"
      ]
     },
     "execution_count": 43,
     "metadata": {},
     "output_type": "execute_result"
    }
   ],
   "source": [
    "# Creating a parameter grid to try out different combinations of hyperparameters\n",
    "param = {\n",
    "    'max_depth': [None, 4],\n",
    "    'n_estimators': np.arange(10, 100, 10),\n",
    "    'tree_method': [None, \"auto\", \"exact\"],\n",
    "}\n",
    "\n",
    "gd = GridSearchCV(model, param, cv=5, n_jobs=-1)\n",
    "gd.fit(X_train, y_train)\n",
    "\n",
    "# getting the best score obtained by GridSearchCV\n",
    "gd.best_score_*100"
   ]
  },
  {
   "cell_type": "code",
   "execution_count": 44,
   "metadata": {
    "collapsed": false
   },
   "outputs": [
    {
     "data": {
      "text/plain": [
       "{'max_depth': 4, 'n_estimators': 90, 'tree_method': None}"
      ]
     },
     "execution_count": 44,
     "metadata": {},
     "output_type": "execute_result"
    }
   ],
   "source": [
    "# getting the best parameters obtained by performing GridSearchCV\n",
    "gd.best_params_"
   ]
  },
  {
   "cell_type": "code",
   "execution_count": 45,
   "metadata": {
    "collapsed": false
   },
   "outputs": [
    {
     "name": "stderr",
     "output_type": "stream",
     "text": [
      "c:\\Users\\Kathir\\anaconda3\\envs\\ML\\lib\\site-packages\\xgboost\\data.py:250: FutureWarning: pandas.Int64Index is deprecated and will be removed from pandas in a future version. Use pandas.Index with the appropriate dtype instead.\n",
      "  elif isinstance(data.columns, (pd.Int64Index, pd.RangeIndex)):\n",
      "c:\\Users\\Kathir\\anaconda3\\envs\\ML\\lib\\site-packages\\xgboost\\data.py:250: FutureWarning: pandas.Int64Index is deprecated and will be removed from pandas in a future version. Use pandas.Index with the appropriate dtype instead.\n",
      "  elif isinstance(data.columns, (pd.Int64Index, pd.RangeIndex)):\n",
      "c:\\Users\\Kathir\\anaconda3\\envs\\ML\\lib\\site-packages\\xgboost\\data.py:250: FutureWarning: pandas.Int64Index is deprecated and will be removed from pandas in a future version. Use pandas.Index with the appropriate dtype instead.\n",
      "  elif isinstance(data.columns, (pd.Int64Index, pd.RangeIndex)):\n",
      "c:\\Users\\Kathir\\anaconda3\\envs\\ML\\lib\\site-packages\\xgboost\\data.py:250: FutureWarning: pandas.Int64Index is deprecated and will be removed from pandas in a future version. Use pandas.Index with the appropriate dtype instead.\n",
      "  elif isinstance(data.columns, (pd.Int64Index, pd.RangeIndex)):\n",
      "c:\\Users\\Kathir\\anaconda3\\envs\\ML\\lib\\site-packages\\xgboost\\data.py:250: FutureWarning: pandas.Int64Index is deprecated and will be removed from pandas in a future version. Use pandas.Index with the appropriate dtype instead.\n",
      "  elif isinstance(data.columns, (pd.Int64Index, pd.RangeIndex)):\n"
     ]
    },
    {
     "data": {
      "text/plain": [
       "(87.36091457532076, 85.87377311271143)"
      ]
     },
     "execution_count": 45,
     "metadata": {},
     "output_type": "execute_result"
    }
   ],
   "source": [
    "# testing out the best parameters obtained by GridSearchCV on test data\n",
    "temp_model = xgb.XGBRFRegressor(\n",
    "    tree_method = None,\n",
    "    n_estimators = 90,\n",
    "    max_depth = 4,\n",
    "    random_state=42\n",
    ")\n",
    "# fitting the model\n",
    "temp_model.fit(X_train, y_train)\n",
    "\n",
    "# scoring the tuned model on test data\n",
    "temp_model.score(X_test, y_test)*100, np.mean(cross_val_score(temp_model, X_test, y_test, cv=5))*100"
   ]
  },
  {
   "cell_type": "markdown",
   "metadata": {
    "collapsed": false
   },
   "source": [
    "## 6. Creating a Final model and Exporting it"
   ]
  },
  {
   "cell_type": "code",
   "execution_count": 46,
   "metadata": {
    "collapsed": false
   },
   "outputs": [
    {
     "data": {
      "text/html": [
       "<div>\n",
       "<style scoped>\n",
       "    .dataframe tbody tr th:only-of-type {\n",
       "        vertical-align: middle;\n",
       "    }\n",
       "\n",
       "    .dataframe tbody tr th {\n",
       "        vertical-align: top;\n",
       "    }\n",
       "\n",
       "    .dataframe thead th {\n",
       "        text-align: right;\n",
       "    }\n",
       "</style>\n",
       "<table border=\"1\" class=\"dataframe\">\n",
       "  <thead>\n",
       "    <tr style=\"text-align: right;\">\n",
       "      <th></th>\n",
       "      <th>age</th>\n",
       "      <th>sex</th>\n",
       "      <th>bmi</th>\n",
       "      <th>children</th>\n",
       "      <th>smoker</th>\n",
       "      <th>region</th>\n",
       "      <th>charges</th>\n",
       "    </tr>\n",
       "  </thead>\n",
       "  <tbody>\n",
       "    <tr>\n",
       "      <th>0</th>\n",
       "      <td>19.0</td>\n",
       "      <td>0.0</td>\n",
       "      <td>27.900</td>\n",
       "      <td>0.0</td>\n",
       "      <td>1.0</td>\n",
       "      <td>4.0</td>\n",
       "      <td>16884.92400</td>\n",
       "    </tr>\n",
       "    <tr>\n",
       "      <th>1</th>\n",
       "      <td>18.0</td>\n",
       "      <td>1.0</td>\n",
       "      <td>33.770</td>\n",
       "      <td>1.0</td>\n",
       "      <td>0.0</td>\n",
       "      <td>3.0</td>\n",
       "      <td>1725.55230</td>\n",
       "    </tr>\n",
       "    <tr>\n",
       "      <th>2</th>\n",
       "      <td>28.0</td>\n",
       "      <td>1.0</td>\n",
       "      <td>33.000</td>\n",
       "      <td>3.0</td>\n",
       "      <td>0.0</td>\n",
       "      <td>3.0</td>\n",
       "      <td>4449.46200</td>\n",
       "    </tr>\n",
       "    <tr>\n",
       "      <th>3</th>\n",
       "      <td>33.0</td>\n",
       "      <td>1.0</td>\n",
       "      <td>22.705</td>\n",
       "      <td>0.0</td>\n",
       "      <td>0.0</td>\n",
       "      <td>2.0</td>\n",
       "      <td>21984.47061</td>\n",
       "    </tr>\n",
       "    <tr>\n",
       "      <th>4</th>\n",
       "      <td>32.0</td>\n",
       "      <td>1.0</td>\n",
       "      <td>28.880</td>\n",
       "      <td>0.0</td>\n",
       "      <td>0.0</td>\n",
       "      <td>2.0</td>\n",
       "      <td>3866.85520</td>\n",
       "    </tr>\n",
       "  </tbody>\n",
       "</table>\n",
       "</div>"
      ],
      "text/plain": [
       "    age  sex     bmi  children  smoker  region      charges\n",
       "0  19.0  0.0  27.900       0.0     1.0     4.0  16884.92400\n",
       "1  18.0  1.0  33.770       1.0     0.0     3.0   1725.55230\n",
       "2  28.0  1.0  33.000       3.0     0.0     3.0   4449.46200\n",
       "3  33.0  1.0  22.705       0.0     0.0     2.0  21984.47061\n",
       "4  32.0  1.0  28.880       0.0     0.0     2.0   3866.85520"
      ]
     },
     "execution_count": 46,
     "metadata": {},
     "output_type": "execute_result"
    }
   ],
   "source": [
    "temp_df.head()"
   ]
  },
  {
   "cell_type": "code",
   "execution_count": 47,
   "metadata": {
    "collapsed": false
   },
   "outputs": [
    {
     "name": "stderr",
     "output_type": "stream",
     "text": [
      "c:\\Users\\Kathir\\anaconda3\\envs\\ML\\lib\\site-packages\\xgboost\\data.py:250: FutureWarning: pandas.Int64Index is deprecated and will be removed from pandas in a future version. Use pandas.Index with the appropriate dtype instead.\n",
      "  elif isinstance(data.columns, (pd.Int64Index, pd.RangeIndex)):\n"
     ]
    },
    {
     "data": {
      "text/html": [
       "<style>#sk-container-id-1 {color: black;background-color: white;}#sk-container-id-1 pre{padding: 0;}#sk-container-id-1 div.sk-toggleable {background-color: white;}#sk-container-id-1 label.sk-toggleable__label {cursor: pointer;display: block;width: 100%;margin-bottom: 0;padding: 0.3em;box-sizing: border-box;text-align: center;}#sk-container-id-1 label.sk-toggleable__label-arrow:before {content: \"▸\";float: left;margin-right: 0.25em;color: #696969;}#sk-container-id-1 label.sk-toggleable__label-arrow:hover:before {color: black;}#sk-container-id-1 div.sk-estimator:hover label.sk-toggleable__label-arrow:before {color: black;}#sk-container-id-1 div.sk-toggleable__content {max-height: 0;max-width: 0;overflow: hidden;text-align: left;background-color: #f0f8ff;}#sk-container-id-1 div.sk-toggleable__content pre {margin: 0.2em;color: black;border-radius: 0.25em;background-color: #f0f8ff;}#sk-container-id-1 input.sk-toggleable__control:checked~div.sk-toggleable__content {max-height: 200px;max-width: 100%;overflow: auto;}#sk-container-id-1 input.sk-toggleable__control:checked~label.sk-toggleable__label-arrow:before {content: \"▾\";}#sk-container-id-1 div.sk-estimator input.sk-toggleable__control:checked~label.sk-toggleable__label {background-color: #d4ebff;}#sk-container-id-1 div.sk-label input.sk-toggleable__control:checked~label.sk-toggleable__label {background-color: #d4ebff;}#sk-container-id-1 input.sk-hidden--visually {border: 0;clip: rect(1px 1px 1px 1px);clip: rect(1px, 1px, 1px, 1px);height: 1px;margin: -1px;overflow: hidden;padding: 0;position: absolute;width: 1px;}#sk-container-id-1 div.sk-estimator {font-family: monospace;background-color: #f0f8ff;border: 1px dotted black;border-radius: 0.25em;box-sizing: border-box;margin-bottom: 0.5em;}#sk-container-id-1 div.sk-estimator:hover {background-color: #d4ebff;}#sk-container-id-1 div.sk-parallel-item::after {content: \"\";width: 100%;border-bottom: 1px solid gray;flex-grow: 1;}#sk-container-id-1 div.sk-label:hover label.sk-toggleable__label {background-color: #d4ebff;}#sk-container-id-1 div.sk-serial::before {content: \"\";position: absolute;border-left: 1px solid gray;box-sizing: border-box;top: 0;bottom: 0;left: 50%;z-index: 0;}#sk-container-id-1 div.sk-serial {display: flex;flex-direction: column;align-items: center;background-color: white;padding-right: 0.2em;padding-left: 0.2em;position: relative;}#sk-container-id-1 div.sk-item {position: relative;z-index: 1;}#sk-container-id-1 div.sk-parallel {display: flex;align-items: stretch;justify-content: center;background-color: white;position: relative;}#sk-container-id-1 div.sk-item::before, #sk-container-id-1 div.sk-parallel-item::before {content: \"\";position: absolute;border-left: 1px solid gray;box-sizing: border-box;top: 0;bottom: 0;left: 50%;z-index: -1;}#sk-container-id-1 div.sk-parallel-item {display: flex;flex-direction: column;z-index: 1;position: relative;background-color: white;}#sk-container-id-1 div.sk-parallel-item:first-child::after {align-self: flex-end;width: 50%;}#sk-container-id-1 div.sk-parallel-item:last-child::after {align-self: flex-start;width: 50%;}#sk-container-id-1 div.sk-parallel-item:only-child::after {width: 0;}#sk-container-id-1 div.sk-dashed-wrapped {border: 1px dashed gray;margin: 0 0.4em 0.5em 0.4em;box-sizing: border-box;padding-bottom: 0.4em;background-color: white;}#sk-container-id-1 div.sk-label label {font-family: monospace;font-weight: bold;display: inline-block;line-height: 1.2em;}#sk-container-id-1 div.sk-label-container {text-align: center;}#sk-container-id-1 div.sk-container {/* jupyter's `normalize.less` sets `[hidden] { display: none; }` but bootstrap.min.css set `[hidden] { display: none !important; }` so we also need the `!important` here to be able to override the default hidden behavior on the sphinx rendered scikit-learn.org. See: https://github.com/scikit-learn/scikit-learn/issues/21755 */display: inline-block !important;position: relative;}#sk-container-id-1 div.sk-text-repr-fallback {display: none;}</style><div id=\"sk-container-id-1\" class=\"sk-top-container\"><div class=\"sk-text-repr-fallback\"><pre>XGBRegressor(base_score=0.5, booster=&#x27;gbtree&#x27;, colsample_bylevel=1,\n",
       "             colsample_bynode=1, colsample_bytree=1, enable_categorical=False,\n",
       "             gamma=0, gpu_id=-1, importance_type=None,\n",
       "             interaction_constraints=&#x27;&#x27;, learning_rate=0.300000012,\n",
       "             max_delta_step=0, max_depth=4, min_child_weight=1, missing=nan,\n",
       "             monotone_constraints=&#x27;()&#x27;, n_estimators=90, n_jobs=16,\n",
       "             num_parallel_tree=1, predictor=&#x27;auto&#x27;, random_state=42,\n",
       "             reg_alpha=0, reg_lambda=1, scale_pos_weight=1, subsample=1,\n",
       "             tree_method=&#x27;exact&#x27;, validate_parameters=1, verbosity=None)</pre><b>In a Jupyter environment, please rerun this cell to show the HTML representation or trust the notebook. <br />On GitHub, the HTML representation is unable to render, please try loading this page with nbviewer.org.</b></div><div class=\"sk-container\" hidden><div class=\"sk-item\"><div class=\"sk-estimator sk-toggleable\"><input class=\"sk-toggleable__control sk-hidden--visually\" id=\"sk-estimator-id-1\" type=\"checkbox\" checked><label for=\"sk-estimator-id-1\" class=\"sk-toggleable__label sk-toggleable__label-arrow\">XGBRegressor</label><div class=\"sk-toggleable__content\"><pre>XGBRegressor(base_score=0.5, booster=&#x27;gbtree&#x27;, colsample_bylevel=1,\n",
       "             colsample_bynode=1, colsample_bytree=1, enable_categorical=False,\n",
       "             gamma=0, gpu_id=-1, importance_type=None,\n",
       "             interaction_constraints=&#x27;&#x27;, learning_rate=0.300000012,\n",
       "             max_delta_step=0, max_depth=4, min_child_weight=1, missing=nan,\n",
       "             monotone_constraints=&#x27;()&#x27;, n_estimators=90, n_jobs=16,\n",
       "             num_parallel_tree=1, predictor=&#x27;auto&#x27;, random_state=42,\n",
       "             reg_alpha=0, reg_lambda=1, scale_pos_weight=1, subsample=1,\n",
       "             tree_method=&#x27;exact&#x27;, validate_parameters=1, verbosity=None)</pre></div></div></div></div></div>"
      ],
      "text/plain": [
       "XGBRegressor(base_score=0.5, booster='gbtree', colsample_bylevel=1,\n",
       "             colsample_bynode=1, colsample_bytree=1, enable_categorical=False,\n",
       "             gamma=0, gpu_id=-1, importance_type=None,\n",
       "             interaction_constraints='', learning_rate=0.300000012,\n",
       "             max_delta_step=0, max_depth=4, min_child_weight=1, missing=nan,\n",
       "             monotone_constraints='()', n_estimators=90, n_jobs=16,\n",
       "             num_parallel_tree=1, predictor='auto', random_state=42,\n",
       "             reg_alpha=0, reg_lambda=1, scale_pos_weight=1, subsample=1,\n",
       "             tree_method='exact', validate_parameters=1, verbosity=None)"
      ]
     },
     "execution_count": 47,
     "metadata": {},
     "output_type": "execute_result"
    }
   ],
   "source": [
    "# creating a final model from the hyperparameters obtained by performing GridSearchCV\n",
    "final_model = xgb.XGBRegressor(\n",
    "    tree_method = None,\n",
    "    n_estimators = 90,\n",
    "    max_depth = 4,\n",
    "    random_state=42\n",
    ")\n",
    "\n",
    "# since this is the final model that we are going to deploy we train it with all the data\n",
    "final_model.fit(X, y)"
   ]
  },
  {
   "cell_type": "code",
   "execution_count": 49,
   "metadata": {
    "collapsed": false
   },
   "outputs": [],
   "source": [
    "# for exporting our model\n",
    "import pickle\n",
    "\n",
    "# saving the model\n",
    "pickle.dump(final_model, open(\"D:/Programs/ML/Prediction models/Health_Insurance_Prediction-main/predictor.sav\", \"wb\"))"
   ]
  },
  {
   "cell_type": "code",
   "execution_count": 51,
   "metadata": {
    "collapsed": false
   },
   "outputs": [
    {
     "data": {
      "text/plain": [
       "96.05534492447578"
      ]
     },
     "execution_count": 51,
     "metadata": {},
     "output_type": "execute_result"
    }
   ],
   "source": [
    "# loading the saved model to check if it is properly saved\n",
    "loaded_model = pickle.load(open(\"D:/Programs/ML/Prediction models/Health_Insurance_Prediction-main/predictor.sav\", \"rb\"))\n",
    "\n",
    "loaded_model.score(X_test, y_test)*100\n",
    "# The model is working good"
   ]
  },
  {
   "cell_type": "code",
   "execution_count": 52,
   "metadata": {},
   "outputs": [],
   "source": [
    "# xgb model require this special function to save and load\n",
    "final_model.save_model(\"predictor.json\")"
   ]
  },
  {
   "cell_type": "code",
   "execution_count": 54,
   "metadata": {},
   "outputs": [
    {
     "data": {
      "text/plain": [
       "96.05534492447578"
      ]
     },
     "execution_count": 54,
     "metadata": {},
     "output_type": "execute_result"
    }
   ],
   "source": [
    "loaded_model = xgb.XGBRFRegressor()\n",
    "loaded_model.load_model(\"predictor.json\")\n",
    "loaded_model.score(X_test, y_test)*100"
   ]
  }
 ],
 "metadata": {
  "kernelspec": {
   "display_name": "Python 3.9.13 ('ML')",
   "language": "python",
   "name": "python3"
  },
  "language_info": {
   "codemirror_mode": {
    "name": "ipython",
    "version": 3
   },
   "file_extension": ".py",
   "mimetype": "text/x-python",
   "name": "python",
   "nbconvert_exporter": "python",
   "pygments_lexer": "ipython3",
   "version": "3.9.13"
  },
  "vscode": {
   "interpreter": {
    "hash": "c0e1c798627fda8961ee9c7e961b0318aabc4fcbdcbaba9bd3d9b11fbe1b323b"
   }
  }
 },
 "nbformat": 4,
 "nbformat_minor": 0
}
